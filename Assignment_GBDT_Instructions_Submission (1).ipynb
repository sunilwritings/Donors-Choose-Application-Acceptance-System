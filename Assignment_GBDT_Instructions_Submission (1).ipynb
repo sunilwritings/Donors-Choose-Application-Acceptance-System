{
  "cells": [
    {
      "cell_type": "markdown",
      "metadata": {
        "id": "8wqapAXjsc24"
      },
      "source": [
        "# Assignment 9: GBDT"
      ]
    },
    {
      "cell_type": "markdown",
      "metadata": {
        "id": "8u5NhbnEsc2-"
      },
      "source": [
        "#### Response Coding: Example"
      ]
    },
    {
      "cell_type": "markdown",
      "metadata": {
        "id": "HIFWmwHKsc3A"
      },
      "source": [
        "<img src='http://i.imgur.com/TufZptV.jpg' width=700px>\n",
        "\n",
        "> The response tabel is built only on train dataset.\n",
        "> For a category which is not there in train data and present in test data, we will encode them with default values\n",
        "Ex: in our test data if have State: D then we encode it as [0.5, 0.05]"
      ]
    },
    {
      "cell_type": "code",
      "source": [
        "%matplotlib inline\n",
        "import warnings\n",
        "warnings.filterwarnings(\"ignore\")\n",
        "import pandas as pd\n",
        "import numpy as np\n",
        "from sklearn.feature_extraction.text import TfidfVectorizer\n",
        "from sklearn.feature_extraction.text import CountVectorizer\n",
        "import re\n",
        "# Tutorial about Python regular expressions: https://pymotw.com/2/re/\n",
        "from nltk.corpus import stopwords\n",
        "import pickle\n",
        "from tqdm import tqdm\n",
        "import os"
      ],
      "metadata": {
        "id": "Vf62azGYUJr9"
      },
      "execution_count": 1,
      "outputs": []
    },
    {
      "cell_type": "code",
      "execution_count": 2,
      "metadata": {
        "id": "7uRc5j22A2Mp",
        "colab": {
          "base_uri": "https://localhost:8080/"
        },
        "outputId": "ba002362-f775-4c47-ab81-16818c4c2dbe"
      },
      "outputs": [
        {
          "output_type": "stream",
          "name": "stdout",
          "text": [
            "Mounted at drive\n"
          ]
        }
      ],
      "source": [
        "from google.colab import drive\n",
        "drive.mount('drive')"
      ]
    },
    {
      "cell_type": "code",
      "source": [
        "train_path=\"/content/drive/My Drive/train_data.csv\"\n",
        "resource_path=\"/content/drive/My Drive/resources.csv\""
      ],
      "metadata": {
        "id": "JwNADL46ZcgO"
      },
      "execution_count": 3,
      "outputs": []
    },
    {
      "cell_type": "code",
      "source": [
        "project_data = pd.read_csv(train_path,nrows=35000)\n",
        "resource_data=pd.read_csv(resource_path)"
      ],
      "metadata": {
        "id": "v3AqajVGZeXu"
      },
      "execution_count": 4,
      "outputs": []
    },
    {
      "cell_type": "code",
      "execution_count": 5,
      "metadata": {
        "id": "yZzy6E8-A2Ms"
      },
      "outputs": [],
      "source": [
        "import pickle\n",
        "#please use below code to load glove vectors \n",
        "with open(r'/content/drive/MyDrive/glove_vectors', 'rb') as f:\n",
        "    model = pickle.load(f)\n",
        "    glove_vectors =  set(model.keys())"
      ]
    },
    {
      "cell_type": "code",
      "source": [
        "Pre_data=pd.read_csv(\"/content/Donors_data.csv\")"
      ],
      "metadata": {
        "id": "xyN75m_kTkOn"
      },
      "execution_count": 6,
      "outputs": []
    },
    {
      "cell_type": "code",
      "source": [
        "Pre_data.head(2)"
      ],
      "metadata": {
        "colab": {
          "base_uri": "https://localhost:8080/",
          "height": 431
        },
        "id": "qsmsn1rVUOaV",
        "outputId": "2bfeb36e-74b1-4a31-9b05-1a7ec118467f"
      },
      "execution_count": 7,
      "outputs": [
        {
          "output_type": "execute_result",
          "data": {
            "text/plain": [
              "   Unnamed: 0  Unnamed: 0.1       id                        teacher_id  \\\n",
              "0           0        160221  p253737  c90749f5d961ff158d4b4d1e7dc665fc   \n",
              "1           1        140945  p258326  897464ce9ddc600bced1151f324dd63a   \n",
              "\n",
              "  teacher_prefix school_state project_submitted_datetime  \\\n",
              "0            mrs           in        2016-12-05 13:43:57   \n",
              "1             mr           fl        2016-10-25 09:22:10   \n",
              "\n",
              "  project_grade_category    project_subject_categories  \\\n",
              "0          grades_prek_2             literacy_language   \n",
              "1             grades_6_8  history_civics_health_sports   \n",
              "\n",
              "  project_subject_subcategories  ...  \\\n",
              "0                  esl_literacy  ...   \n",
              "1  civics_government_teamsports  ...   \n",
              "\n",
              "                            project_resource_summary  \\\n",
              "0  My students need opportunities to practice beg...   \n",
              "1  My students need a projector to help with view...   \n",
              "\n",
              "  teacher_number_of_previously_posted_projects  project_is_approved  \\\n",
              "0                                            0                    0   \n",
              "1                                            7                    1   \n",
              "\n",
              "                                               essay  \\\n",
              "0  my students are english learners that are work...   \n",
              "1  our students arrive to our school eager to lea...   \n",
              "\n",
              "                                 preprocessed_essays  \\\n",
              "0  students english learners working english seco...   \n",
              "1  students arrive school eager learn polite gene...   \n",
              "\n",
              "                         preprocessed_titles    neg    pos    neu  compound  \n",
              "0  educational support english learners home  0.008  0.081  0.911    0.9611  \n",
              "1           wanted projector hungry learners  0.037  0.118  0.845    0.9447  \n",
              "\n",
              "[2 rows x 21 columns]"
            ],
            "text/html": [
              "\n",
              "  <div id=\"df-1668028c-8011-4f94-a181-909460a652c5\">\n",
              "    <div class=\"colab-df-container\">\n",
              "      <div>\n",
              "<style scoped>\n",
              "    .dataframe tbody tr th:only-of-type {\n",
              "        vertical-align: middle;\n",
              "    }\n",
              "\n",
              "    .dataframe tbody tr th {\n",
              "        vertical-align: top;\n",
              "    }\n",
              "\n",
              "    .dataframe thead th {\n",
              "        text-align: right;\n",
              "    }\n",
              "</style>\n",
              "<table border=\"1\" class=\"dataframe\">\n",
              "  <thead>\n",
              "    <tr style=\"text-align: right;\">\n",
              "      <th></th>\n",
              "      <th>Unnamed: 0</th>\n",
              "      <th>Unnamed: 0.1</th>\n",
              "      <th>id</th>\n",
              "      <th>teacher_id</th>\n",
              "      <th>teacher_prefix</th>\n",
              "      <th>school_state</th>\n",
              "      <th>project_submitted_datetime</th>\n",
              "      <th>project_grade_category</th>\n",
              "      <th>project_subject_categories</th>\n",
              "      <th>project_subject_subcategories</th>\n",
              "      <th>...</th>\n",
              "      <th>project_resource_summary</th>\n",
              "      <th>teacher_number_of_previously_posted_projects</th>\n",
              "      <th>project_is_approved</th>\n",
              "      <th>essay</th>\n",
              "      <th>preprocessed_essays</th>\n",
              "      <th>preprocessed_titles</th>\n",
              "      <th>neg</th>\n",
              "      <th>pos</th>\n",
              "      <th>neu</th>\n",
              "      <th>compound</th>\n",
              "    </tr>\n",
              "  </thead>\n",
              "  <tbody>\n",
              "    <tr>\n",
              "      <th>0</th>\n",
              "      <td>0</td>\n",
              "      <td>160221</td>\n",
              "      <td>p253737</td>\n",
              "      <td>c90749f5d961ff158d4b4d1e7dc665fc</td>\n",
              "      <td>mrs</td>\n",
              "      <td>in</td>\n",
              "      <td>2016-12-05 13:43:57</td>\n",
              "      <td>grades_prek_2</td>\n",
              "      <td>literacy_language</td>\n",
              "      <td>esl_literacy</td>\n",
              "      <td>...</td>\n",
              "      <td>My students need opportunities to practice beg...</td>\n",
              "      <td>0</td>\n",
              "      <td>0</td>\n",
              "      <td>my students are english learners that are work...</td>\n",
              "      <td>students english learners working english seco...</td>\n",
              "      <td>educational support english learners home</td>\n",
              "      <td>0.008</td>\n",
              "      <td>0.081</td>\n",
              "      <td>0.911</td>\n",
              "      <td>0.9611</td>\n",
              "    </tr>\n",
              "    <tr>\n",
              "      <th>1</th>\n",
              "      <td>1</td>\n",
              "      <td>140945</td>\n",
              "      <td>p258326</td>\n",
              "      <td>897464ce9ddc600bced1151f324dd63a</td>\n",
              "      <td>mr</td>\n",
              "      <td>fl</td>\n",
              "      <td>2016-10-25 09:22:10</td>\n",
              "      <td>grades_6_8</td>\n",
              "      <td>history_civics_health_sports</td>\n",
              "      <td>civics_government_teamsports</td>\n",
              "      <td>...</td>\n",
              "      <td>My students need a projector to help with view...</td>\n",
              "      <td>7</td>\n",
              "      <td>1</td>\n",
              "      <td>our students arrive to our school eager to lea...</td>\n",
              "      <td>students arrive school eager learn polite gene...</td>\n",
              "      <td>wanted projector hungry learners</td>\n",
              "      <td>0.037</td>\n",
              "      <td>0.118</td>\n",
              "      <td>0.845</td>\n",
              "      <td>0.9447</td>\n",
              "    </tr>\n",
              "  </tbody>\n",
              "</table>\n",
              "<p>2 rows × 21 columns</p>\n",
              "</div>\n",
              "      <button class=\"colab-df-convert\" onclick=\"convertToInteractive('df-1668028c-8011-4f94-a181-909460a652c5')\"\n",
              "              title=\"Convert this dataframe to an interactive table.\"\n",
              "              style=\"display:none;\">\n",
              "        \n",
              "  <svg xmlns=\"http://www.w3.org/2000/svg\" height=\"24px\"viewBox=\"0 0 24 24\"\n",
              "       width=\"24px\">\n",
              "    <path d=\"M0 0h24v24H0V0z\" fill=\"none\"/>\n",
              "    <path d=\"M18.56 5.44l.94 2.06.94-2.06 2.06-.94-2.06-.94-.94-2.06-.94 2.06-2.06.94zm-11 1L8.5 8.5l.94-2.06 2.06-.94-2.06-.94L8.5 2.5l-.94 2.06-2.06.94zm10 10l.94 2.06.94-2.06 2.06-.94-2.06-.94-.94-2.06-.94 2.06-2.06.94z\"/><path d=\"M17.41 7.96l-1.37-1.37c-.4-.4-.92-.59-1.43-.59-.52 0-1.04.2-1.43.59L10.3 9.45l-7.72 7.72c-.78.78-.78 2.05 0 2.83L4 21.41c.39.39.9.59 1.41.59.51 0 1.02-.2 1.41-.59l7.78-7.78 2.81-2.81c.8-.78.8-2.07 0-2.86zM5.41 20L4 18.59l7.72-7.72 1.47 1.35L5.41 20z\"/>\n",
              "  </svg>\n",
              "      </button>\n",
              "      \n",
              "  <style>\n",
              "    .colab-df-container {\n",
              "      display:flex;\n",
              "      flex-wrap:wrap;\n",
              "      gap: 12px;\n",
              "    }\n",
              "\n",
              "    .colab-df-convert {\n",
              "      background-color: #E8F0FE;\n",
              "      border: none;\n",
              "      border-radius: 50%;\n",
              "      cursor: pointer;\n",
              "      display: none;\n",
              "      fill: #1967D2;\n",
              "      height: 32px;\n",
              "      padding: 0 0 0 0;\n",
              "      width: 32px;\n",
              "    }\n",
              "\n",
              "    .colab-df-convert:hover {\n",
              "      background-color: #E2EBFA;\n",
              "      box-shadow: 0px 1px 2px rgba(60, 64, 67, 0.3), 0px 1px 3px 1px rgba(60, 64, 67, 0.15);\n",
              "      fill: #174EA6;\n",
              "    }\n",
              "\n",
              "    [theme=dark] .colab-df-convert {\n",
              "      background-color: #3B4455;\n",
              "      fill: #D2E3FC;\n",
              "    }\n",
              "\n",
              "    [theme=dark] .colab-df-convert:hover {\n",
              "      background-color: #434B5C;\n",
              "      box-shadow: 0px 1px 3px 1px rgba(0, 0, 0, 0.15);\n",
              "      filter: drop-shadow(0px 1px 2px rgba(0, 0, 0, 0.3));\n",
              "      fill: #FFFFFF;\n",
              "    }\n",
              "  </style>\n",
              "\n",
              "      <script>\n",
              "        const buttonEl =\n",
              "          document.querySelector('#df-1668028c-8011-4f94-a181-909460a652c5 button.colab-df-convert');\n",
              "        buttonEl.style.display =\n",
              "          google.colab.kernel.accessAllowed ? 'block' : 'none';\n",
              "\n",
              "        async function convertToInteractive(key) {\n",
              "          const element = document.querySelector('#df-1668028c-8011-4f94-a181-909460a652c5');\n",
              "          const dataTable =\n",
              "            await google.colab.kernel.invokeFunction('convertToInteractive',\n",
              "                                                     [key], {});\n",
              "          if (!dataTable) return;\n",
              "\n",
              "          const docLinkHtml = 'Like what you see? Visit the ' +\n",
              "            '<a target=\"_blank\" href=https://colab.research.google.com/notebooks/data_table.ipynb>data table notebook</a>'\n",
              "            + ' to learn more about interactive tables.';\n",
              "          element.innerHTML = '';\n",
              "          dataTable['output_type'] = 'display_data';\n",
              "          await google.colab.output.renderOutput(dataTable, element);\n",
              "          const docLink = document.createElement('div');\n",
              "          docLink.innerHTML = docLinkHtml;\n",
              "          element.appendChild(docLink);\n",
              "        }\n",
              "      </script>\n",
              "    </div>\n",
              "  </div>\n",
              "  "
            ]
          },
          "metadata": {},
          "execution_count": 7
        }
      ]
    },
    {
      "cell_type": "code",
      "source": [],
      "metadata": {
        "id": "BvbV52AUUagG"
      },
      "execution_count": null,
      "outputs": []
    },
    {
      "cell_type": "markdown",
      "metadata": {
        "id": "3KwfGufDsc3D"
      },
      "source": [
        "<ol>\n",
        "    <li><strong>Apply GBDT on these feature sets</strong>\n",
        "        <ul>\n",
        "            <li><font color='red'>Set 1</font>: categorical(instead of one hot encoding, try <a href='https://www.appliedaicourse.com/course/applied-ai-course-online/lessons/handling-categorical-and-numerical-features/'>response coding</a>: use probability values), numerical features + project_title(TFIDF)+  preprocessed_eassay (TFIDF)+sentiment Score of eassay(check the bellow example, include all 4 values as 4 features)</li>\n",
        "            <li><font color='red'>Set 2</font>: categorical(instead of one hot encoding, try <a href='https://www.appliedaicourse.com/course/applied-ai-course-online/lessons/handling-categorical-and-numerical-features/'>response coding</a>: use probability values), numerical features + project_title(TFIDF W2V)+  preprocessed_eassay (TFIDF W2V)</li>        \n",
        "    </li>\n",
        "    <li> Here in response encoding you need to apply the <strong>laplase smoothing</strong> value for test set. Laplase smoothing means, If test point is present in test but not in train then you need to apply default 0.5 as probability value for that data point (Refer the Response Encoding Image from above cell) </li>\n",
        "    <li>Please use atleast <strong> 35k </strong> data points </li></ul>\n",
        "    <li><strong>The hyper paramter tuning (Consider any two hyper parameters)</strong>\n",
        "        <ul>\n",
        "    <li>Find the best hyper parameter which will give the maximum <a href='https://www.appliedaicourse.com/course/applied-ai-course-online/lessons/receiver-operating-characteristic-curve-roc-curve-and-auc-1/'>AUC</a> value</li>\n",
        "    <li>find the best hyper paramter using k-fold cross validation/simple cross validation data</li>\n",
        "    <li>use gridsearch cv or randomsearch cv or you can write your own for loops to do this task</li>\n",
        "        </ul>\n",
        "    </li>\n",
        "    <li>\n",
        "    <strong>Representation of results</strong>\n",
        "        <ul>\n",
        "    <li>You need to plot the performance of model both on train data and cross validation data for each hyper parameter, like shown in the figure\n",
        "    <img src='https://i.imgur.com/Gp2DQmh.jpg' width=500px> with X-axis as <strong>n_estimators</strong>, Y-axis as <strong>max_depth</strong>, and Z-axis as <strong>AUC Score</strong> , we have given the notebook which explains how to plot this 3d plot, you can find it in the same drive <i>3d_scatter_plot.ipynb</i></li>\n",
        "            <p style=\"text-align:center;font-size:30px;color:red;\"><strong>or</strong></p> <br>\n",
        "    <li>You need to plot the performance of model both on train data and cross validation data for each hyper parameter, like shown in the figure\n",
        "    <img src='https://i.imgur.com/fgN9aUP.jpg' width=300px> <a href='https://seaborn.pydata.org/generated/seaborn.heatmap.html'>seaborn heat maps</a> with rows as <strong>n_estimators</strong>, columns as <strong>max_depth</strong>, and values inside the cell representing <strong>AUC Score</strong> </li>\n",
        "    <li>You choose either of the plotting techniques out of 3d plot or heat map</li>\n",
        "    <li>Once after you found the best hyper parameter, you need to train your model with it, and find the AUC on test data and plot the ROC curve on both train and test.\n",
        "        Make sure that you are using predict_proba method to calculate AUC curves, because AUC is calcualted on class probabilities and not on class labels.\n",
        "    <img src='https://i.imgur.com/wMQDTFe.jpg' width=300px></li>\n",
        "    <li>Along with plotting ROC curve, you need to print the <a href='https://www.appliedaicourse.com/course/applied-ai-course-online/lessons/confusion-matrix-tpr-fpr-fnr-tnr-1/'>confusion matrix</a> with predicted and original labels of test data points\n",
        "    <img src='https://i.imgur.com/IdN5Ctv.png' width=300px></li>\n",
        "            </ul>\n",
        "    <br>\n",
        "    <li>You need to summarize the results at the end of the notebook, summarize it in the table format\n",
        "        <img src='http://i.imgur.com/YVpIGGE.jpg' width=400px>\n",
        "    </li>\n",
        "</ol>"
      ]
    },
    {
      "cell_type": "markdown",
      "metadata": {
        "id": "Z3jq5EvpA2Mv"
      },
      "source": [
        "# Few Notes"
      ]
    },
    {
      "cell_type": "markdown",
      "metadata": {
        "id": "xfeBfGqAA2Mx"
      },
      "source": [
        "1. Use atleast 35k data points\n",
        "2. Use classifier.Predict_proba() method instead of predict() method while calculating roc_auc scores\n",
        "3. Be sure that you are using laplase smoothing in response encoding function. Laplase smoothing means applying the default (0.5) value to test data if the test data is not present in the train set\n"
      ]
    },
    {
      "cell_type": "code",
      "execution_count": null,
      "metadata": {
        "id": "iffa2_WGsc3H",
        "outputId": "d1e2523e-3642-428b-ef84-040ac3b886b2",
        "colab": {
          "base_uri": "https://localhost:8080/",
          "height": 799
        }
      },
      "outputs": [
        {
          "output_type": "error",
          "ename": "LookupError",
          "evalue": "ignored",
          "traceback": [
            "\u001b[0;31m---------------------------------------------------------------------------\u001b[0m",
            "\u001b[0;31mLookupError\u001b[0m                               Traceback (most recent call last)",
            "\u001b[0;32m<ipython-input-7-9a58fc301cf5>\u001b[0m in \u001b[0;36m<module>\u001b[0;34m()\u001b[0m\n\u001b[1;32m      4\u001b[0m \u001b[0;31m# nltk.download('vader_lexicon')\u001b[0m\u001b[0;34m\u001b[0m\u001b[0;34m\u001b[0m\u001b[0;34m\u001b[0m\u001b[0m\n\u001b[1;32m      5\u001b[0m \u001b[0;34m\u001b[0m\u001b[0m\n\u001b[0;32m----> 6\u001b[0;31m \u001b[0msid\u001b[0m \u001b[0;34m=\u001b[0m \u001b[0mSentimentIntensityAnalyzer\u001b[0m\u001b[0;34m(\u001b[0m\u001b[0;34m)\u001b[0m\u001b[0;34m\u001b[0m\u001b[0;34m\u001b[0m\u001b[0m\n\u001b[0m\u001b[1;32m      7\u001b[0m \u001b[0;34m\u001b[0m\u001b[0m\n\u001b[1;32m      8\u001b[0m \u001b[0msample_sentence_1\u001b[0m\u001b[0;34m=\u001b[0m\u001b[0;34m'I am happy.'\u001b[0m\u001b[0;34m\u001b[0m\u001b[0;34m\u001b[0m\u001b[0m\n",
            "\u001b[0;32m/usr/local/lib/python3.7/dist-packages/nltk/sentiment/vader.py\u001b[0m in \u001b[0;36m__init__\u001b[0;34m(self, lexicon_file)\u001b[0m\n\u001b[1;32m    338\u001b[0m         \u001b[0mlexicon_file\u001b[0m\u001b[0;34m=\u001b[0m\u001b[0;34m\"sentiment/vader_lexicon.zip/vader_lexicon/vader_lexicon.txt\"\u001b[0m\u001b[0;34m,\u001b[0m\u001b[0;34m\u001b[0m\u001b[0;34m\u001b[0m\u001b[0m\n\u001b[1;32m    339\u001b[0m     ):\n\u001b[0;32m--> 340\u001b[0;31m         \u001b[0mself\u001b[0m\u001b[0;34m.\u001b[0m\u001b[0mlexicon_file\u001b[0m \u001b[0;34m=\u001b[0m \u001b[0mnltk\u001b[0m\u001b[0;34m.\u001b[0m\u001b[0mdata\u001b[0m\u001b[0;34m.\u001b[0m\u001b[0mload\u001b[0m\u001b[0;34m(\u001b[0m\u001b[0mlexicon_file\u001b[0m\u001b[0;34m)\u001b[0m\u001b[0;34m\u001b[0m\u001b[0;34m\u001b[0m\u001b[0m\n\u001b[0m\u001b[1;32m    341\u001b[0m         \u001b[0mself\u001b[0m\u001b[0;34m.\u001b[0m\u001b[0mlexicon\u001b[0m \u001b[0;34m=\u001b[0m \u001b[0mself\u001b[0m\u001b[0;34m.\u001b[0m\u001b[0mmake_lex_dict\u001b[0m\u001b[0;34m(\u001b[0m\u001b[0;34m)\u001b[0m\u001b[0;34m\u001b[0m\u001b[0;34m\u001b[0m\u001b[0m\n\u001b[1;32m    342\u001b[0m         \u001b[0mself\u001b[0m\u001b[0;34m.\u001b[0m\u001b[0mconstants\u001b[0m \u001b[0;34m=\u001b[0m \u001b[0mVaderConstants\u001b[0m\u001b[0;34m(\u001b[0m\u001b[0;34m)\u001b[0m\u001b[0;34m\u001b[0m\u001b[0;34m\u001b[0m\u001b[0m\n",
            "\u001b[0;32m/usr/local/lib/python3.7/dist-packages/nltk/data.py\u001b[0m in \u001b[0;36mload\u001b[0;34m(resource_url, format, cache, verbose, logic_parser, fstruct_reader, encoding)\u001b[0m\n\u001b[1;32m    748\u001b[0m \u001b[0;34m\u001b[0m\u001b[0m\n\u001b[1;32m    749\u001b[0m     \u001b[0;31m# Load the resource.\u001b[0m\u001b[0;34m\u001b[0m\u001b[0;34m\u001b[0m\u001b[0;34m\u001b[0m\u001b[0m\n\u001b[0;32m--> 750\u001b[0;31m     \u001b[0mopened_resource\u001b[0m \u001b[0;34m=\u001b[0m \u001b[0m_open\u001b[0m\u001b[0;34m(\u001b[0m\u001b[0mresource_url\u001b[0m\u001b[0;34m)\u001b[0m\u001b[0;34m\u001b[0m\u001b[0;34m\u001b[0m\u001b[0m\n\u001b[0m\u001b[1;32m    751\u001b[0m \u001b[0;34m\u001b[0m\u001b[0m\n\u001b[1;32m    752\u001b[0m     \u001b[0;32mif\u001b[0m \u001b[0mformat\u001b[0m \u001b[0;34m==\u001b[0m \u001b[0;34m\"raw\"\u001b[0m\u001b[0;34m:\u001b[0m\u001b[0;34m\u001b[0m\u001b[0;34m\u001b[0m\u001b[0m\n",
            "\u001b[0;32m/usr/local/lib/python3.7/dist-packages/nltk/data.py\u001b[0m in \u001b[0;36m_open\u001b[0;34m(resource_url)\u001b[0m\n\u001b[1;32m    874\u001b[0m \u001b[0;34m\u001b[0m\u001b[0m\n\u001b[1;32m    875\u001b[0m     \u001b[0;32mif\u001b[0m \u001b[0mprotocol\u001b[0m \u001b[0;32mis\u001b[0m \u001b[0;32mNone\u001b[0m \u001b[0;32mor\u001b[0m \u001b[0mprotocol\u001b[0m\u001b[0;34m.\u001b[0m\u001b[0mlower\u001b[0m\u001b[0;34m(\u001b[0m\u001b[0;34m)\u001b[0m \u001b[0;34m==\u001b[0m \u001b[0;34m\"nltk\"\u001b[0m\u001b[0;34m:\u001b[0m\u001b[0;34m\u001b[0m\u001b[0;34m\u001b[0m\u001b[0m\n\u001b[0;32m--> 876\u001b[0;31m         \u001b[0;32mreturn\u001b[0m \u001b[0mfind\u001b[0m\u001b[0;34m(\u001b[0m\u001b[0mpath_\u001b[0m\u001b[0;34m,\u001b[0m \u001b[0mpath\u001b[0m \u001b[0;34m+\u001b[0m \u001b[0;34m[\u001b[0m\u001b[0;34m\"\"\u001b[0m\u001b[0;34m]\u001b[0m\u001b[0;34m)\u001b[0m\u001b[0;34m.\u001b[0m\u001b[0mopen\u001b[0m\u001b[0;34m(\u001b[0m\u001b[0;34m)\u001b[0m\u001b[0;34m\u001b[0m\u001b[0;34m\u001b[0m\u001b[0m\n\u001b[0m\u001b[1;32m    877\u001b[0m     \u001b[0;32melif\u001b[0m \u001b[0mprotocol\u001b[0m\u001b[0;34m.\u001b[0m\u001b[0mlower\u001b[0m\u001b[0;34m(\u001b[0m\u001b[0;34m)\u001b[0m \u001b[0;34m==\u001b[0m \u001b[0;34m\"file\"\u001b[0m\u001b[0;34m:\u001b[0m\u001b[0;34m\u001b[0m\u001b[0;34m\u001b[0m\u001b[0m\n\u001b[1;32m    878\u001b[0m         \u001b[0;31m# urllib might not use mode='rb', so handle this one ourselves:\u001b[0m\u001b[0;34m\u001b[0m\u001b[0;34m\u001b[0m\u001b[0;34m\u001b[0m\u001b[0m\n",
            "\u001b[0;32m/usr/local/lib/python3.7/dist-packages/nltk/data.py\u001b[0m in \u001b[0;36mfind\u001b[0;34m(resource_name, paths)\u001b[0m\n\u001b[1;32m    581\u001b[0m     \u001b[0msep\u001b[0m \u001b[0;34m=\u001b[0m \u001b[0;34m\"*\"\u001b[0m \u001b[0;34m*\u001b[0m \u001b[0;36m70\u001b[0m\u001b[0;34m\u001b[0m\u001b[0;34m\u001b[0m\u001b[0m\n\u001b[1;32m    582\u001b[0m     \u001b[0mresource_not_found\u001b[0m \u001b[0;34m=\u001b[0m \u001b[0;34mf\"\\n{sep}\\n{msg}\\n{sep}\\n\"\u001b[0m\u001b[0;34m\u001b[0m\u001b[0;34m\u001b[0m\u001b[0m\n\u001b[0;32m--> 583\u001b[0;31m     \u001b[0;32mraise\u001b[0m \u001b[0mLookupError\u001b[0m\u001b[0;34m(\u001b[0m\u001b[0mresource_not_found\u001b[0m\u001b[0;34m)\u001b[0m\u001b[0;34m\u001b[0m\u001b[0;34m\u001b[0m\u001b[0m\n\u001b[0m\u001b[1;32m    584\u001b[0m \u001b[0;34m\u001b[0m\u001b[0m\n\u001b[1;32m    585\u001b[0m \u001b[0;34m\u001b[0m\u001b[0m\n",
            "\u001b[0;31mLookupError\u001b[0m: \n**********************************************************************\n  Resource \u001b[93mvader_lexicon\u001b[0m not found.\n  Please use the NLTK Downloader to obtain the resource:\n\n  \u001b[31m>>> import nltk\n  >>> nltk.download('vader_lexicon')\n  \u001b[0m\n  For more information see: https://www.nltk.org/data.html\n\n  Attempted to load \u001b[93msentiment/vader_lexicon.zip/vader_lexicon/vader_lexicon.txt\u001b[0m\n\n  Searched in:\n    - '/root/nltk_data'\n    - '/usr/nltk_data'\n    - '/usr/share/nltk_data'\n    - '/usr/lib/nltk_data'\n    - '/usr/share/nltk_data'\n    - '/usr/local/share/nltk_data'\n    - '/usr/lib/nltk_data'\n    - '/usr/local/lib/nltk_data'\n    - ''\n**********************************************************************\n"
          ]
        }
      ],
      "source": [
        "import nltk\n",
        "from nltk.sentiment.vader import SentimentIntensityAnalyzer\n",
        "# import nltk\n",
        "# nltk.download('vader_lexicon')\n",
        "\n",
        "sid = SentimentIntensityAnalyzer()\n",
        "\n",
        "sample_sentence_1='I am happy.'\n",
        "ss_1 = sid.polarity_scores(sample_sentence_1)\n",
        "print('sentiment score for sentence 1',ss_1)\n",
        "\n",
        "sample_sentence_2='I am sad.'\n",
        "ss_2 = sid.polarity_scores(sample_sentence_2)\n",
        "print('sentiment score for sentence 2',ss_2)\n",
        "\n",
        "sample_sentence_3='I am going to New Delhi tommorow.'\n",
        "ss_3 = sid.polarity_scores(sample_sentence_3)\n",
        "print('sentiment score for sentence 3',ss_3)\n"
      ]
    },
    {
      "cell_type": "markdown",
      "metadata": {
        "id": "BOyTl7oKsc3W"
      },
      "source": [
        "<h1>1. GBDT (xgboost/lightgbm) </h1>"
      ]
    },
    {
      "cell_type": "markdown",
      "metadata": {
        "id": "VWge-b2Zsc3Z"
      },
      "source": [
        "## 1.1 Loading Data"
      ]
    },
    {
      "cell_type": "markdown",
      "metadata": {
        "id": "6lAMFKFcsc3j"
      },
      "source": [
        "<h2>1.2 Splitting data into Train and cross validation(or test): Stratified Sampling</h2>"
      ]
    },
    {
      "cell_type": "code",
      "execution_count": null,
      "metadata": {
        "id": "ODMijuuNsc3l"
      },
      "outputs": [],
      "source": [
        "# please write all the code with proper documentation, and proper titles for each subsection\n",
        "# go through documentations and blogs before you start coding\n",
        "# first figure out what to do, and then think about how to do.\n",
        "# reading and understanding error messages will be very much helpfull in debugging your code\n",
        "# when you plot any graph make sure you use \n",
        "    # a. Title, that describes your plot, this will be very helpful to the reader\n",
        "    # b. Legends if needed\n",
        "    # c. X-axis label\n",
        "    # d. Y-axis label"
      ]
    },
    {
      "cell_type": "code",
      "source": [
        "y = Pre_data['project_is_approved'].values\n",
        "X = Pre_data.drop(['project_is_approved'], axis=1)\n",
        "X.head(1)"
      ],
      "metadata": {
        "colab": {
          "base_uri": "https://localhost:8080/",
          "height": 266
        },
        "id": "meO9RfX3UjMP",
        "outputId": "ebd73dfc-437c-4066-d280-e36148d5659a"
      },
      "execution_count": 8,
      "outputs": [
        {
          "output_type": "execute_result",
          "data": {
            "text/plain": [
              "   Unnamed: 0  Unnamed: 0.1       id                        teacher_id  \\\n",
              "0           0        160221  p253737  c90749f5d961ff158d4b4d1e7dc665fc   \n",
              "\n",
              "  teacher_prefix school_state project_submitted_datetime  \\\n",
              "0            mrs           in        2016-12-05 13:43:57   \n",
              "\n",
              "  project_grade_category project_subject_categories  \\\n",
              "0          grades_prek_2          literacy_language   \n",
              "\n",
              "  project_subject_subcategories  \\\n",
              "0                  esl_literacy   \n",
              "\n",
              "                                      project_title  \\\n",
              "0  educational support for english learners at home   \n",
              "\n",
              "                            project_resource_summary  \\\n",
              "0  My students need opportunities to practice beg...   \n",
              "\n",
              "   teacher_number_of_previously_posted_projects  \\\n",
              "0                                             0   \n",
              "\n",
              "                                               essay  \\\n",
              "0  my students are english learners that are work...   \n",
              "\n",
              "                                 preprocessed_essays  \\\n",
              "0  students english learners working english seco...   \n",
              "\n",
              "                         preprocessed_titles    neg    pos    neu  compound  \n",
              "0  educational support english learners home  0.008  0.081  0.911    0.9611  "
            ],
            "text/html": [
              "\n",
              "  <div id=\"df-5617b678-6573-4050-993a-79f1b2c64d17\">\n",
              "    <div class=\"colab-df-container\">\n",
              "      <div>\n",
              "<style scoped>\n",
              "    .dataframe tbody tr th:only-of-type {\n",
              "        vertical-align: middle;\n",
              "    }\n",
              "\n",
              "    .dataframe tbody tr th {\n",
              "        vertical-align: top;\n",
              "    }\n",
              "\n",
              "    .dataframe thead th {\n",
              "        text-align: right;\n",
              "    }\n",
              "</style>\n",
              "<table border=\"1\" class=\"dataframe\">\n",
              "  <thead>\n",
              "    <tr style=\"text-align: right;\">\n",
              "      <th></th>\n",
              "      <th>Unnamed: 0</th>\n",
              "      <th>Unnamed: 0.1</th>\n",
              "      <th>id</th>\n",
              "      <th>teacher_id</th>\n",
              "      <th>teacher_prefix</th>\n",
              "      <th>school_state</th>\n",
              "      <th>project_submitted_datetime</th>\n",
              "      <th>project_grade_category</th>\n",
              "      <th>project_subject_categories</th>\n",
              "      <th>project_subject_subcategories</th>\n",
              "      <th>project_title</th>\n",
              "      <th>project_resource_summary</th>\n",
              "      <th>teacher_number_of_previously_posted_projects</th>\n",
              "      <th>essay</th>\n",
              "      <th>preprocessed_essays</th>\n",
              "      <th>preprocessed_titles</th>\n",
              "      <th>neg</th>\n",
              "      <th>pos</th>\n",
              "      <th>neu</th>\n",
              "      <th>compound</th>\n",
              "    </tr>\n",
              "  </thead>\n",
              "  <tbody>\n",
              "    <tr>\n",
              "      <th>0</th>\n",
              "      <td>0</td>\n",
              "      <td>160221</td>\n",
              "      <td>p253737</td>\n",
              "      <td>c90749f5d961ff158d4b4d1e7dc665fc</td>\n",
              "      <td>mrs</td>\n",
              "      <td>in</td>\n",
              "      <td>2016-12-05 13:43:57</td>\n",
              "      <td>grades_prek_2</td>\n",
              "      <td>literacy_language</td>\n",
              "      <td>esl_literacy</td>\n",
              "      <td>educational support for english learners at home</td>\n",
              "      <td>My students need opportunities to practice beg...</td>\n",
              "      <td>0</td>\n",
              "      <td>my students are english learners that are work...</td>\n",
              "      <td>students english learners working english seco...</td>\n",
              "      <td>educational support english learners home</td>\n",
              "      <td>0.008</td>\n",
              "      <td>0.081</td>\n",
              "      <td>0.911</td>\n",
              "      <td>0.9611</td>\n",
              "    </tr>\n",
              "  </tbody>\n",
              "</table>\n",
              "</div>\n",
              "      <button class=\"colab-df-convert\" onclick=\"convertToInteractive('df-5617b678-6573-4050-993a-79f1b2c64d17')\"\n",
              "              title=\"Convert this dataframe to an interactive table.\"\n",
              "              style=\"display:none;\">\n",
              "        \n",
              "  <svg xmlns=\"http://www.w3.org/2000/svg\" height=\"24px\"viewBox=\"0 0 24 24\"\n",
              "       width=\"24px\">\n",
              "    <path d=\"M0 0h24v24H0V0z\" fill=\"none\"/>\n",
              "    <path d=\"M18.56 5.44l.94 2.06.94-2.06 2.06-.94-2.06-.94-.94-2.06-.94 2.06-2.06.94zm-11 1L8.5 8.5l.94-2.06 2.06-.94-2.06-.94L8.5 2.5l-.94 2.06-2.06.94zm10 10l.94 2.06.94-2.06 2.06-.94-2.06-.94-.94-2.06-.94 2.06-2.06.94z\"/><path d=\"M17.41 7.96l-1.37-1.37c-.4-.4-.92-.59-1.43-.59-.52 0-1.04.2-1.43.59L10.3 9.45l-7.72 7.72c-.78.78-.78 2.05 0 2.83L4 21.41c.39.39.9.59 1.41.59.51 0 1.02-.2 1.41-.59l7.78-7.78 2.81-2.81c.8-.78.8-2.07 0-2.86zM5.41 20L4 18.59l7.72-7.72 1.47 1.35L5.41 20z\"/>\n",
              "  </svg>\n",
              "      </button>\n",
              "      \n",
              "  <style>\n",
              "    .colab-df-container {\n",
              "      display:flex;\n",
              "      flex-wrap:wrap;\n",
              "      gap: 12px;\n",
              "    }\n",
              "\n",
              "    .colab-df-convert {\n",
              "      background-color: #E8F0FE;\n",
              "      border: none;\n",
              "      border-radius: 50%;\n",
              "      cursor: pointer;\n",
              "      display: none;\n",
              "      fill: #1967D2;\n",
              "      height: 32px;\n",
              "      padding: 0 0 0 0;\n",
              "      width: 32px;\n",
              "    }\n",
              "\n",
              "    .colab-df-convert:hover {\n",
              "      background-color: #E2EBFA;\n",
              "      box-shadow: 0px 1px 2px rgba(60, 64, 67, 0.3), 0px 1px 3px 1px rgba(60, 64, 67, 0.15);\n",
              "      fill: #174EA6;\n",
              "    }\n",
              "\n",
              "    [theme=dark] .colab-df-convert {\n",
              "      background-color: #3B4455;\n",
              "      fill: #D2E3FC;\n",
              "    }\n",
              "\n",
              "    [theme=dark] .colab-df-convert:hover {\n",
              "      background-color: #434B5C;\n",
              "      box-shadow: 0px 1px 3px 1px rgba(0, 0, 0, 0.15);\n",
              "      filter: drop-shadow(0px 1px 2px rgba(0, 0, 0, 0.3));\n",
              "      fill: #FFFFFF;\n",
              "    }\n",
              "  </style>\n",
              "\n",
              "      <script>\n",
              "        const buttonEl =\n",
              "          document.querySelector('#df-5617b678-6573-4050-993a-79f1b2c64d17 button.colab-df-convert');\n",
              "        buttonEl.style.display =\n",
              "          google.colab.kernel.accessAllowed ? 'block' : 'none';\n",
              "\n",
              "        async function convertToInteractive(key) {\n",
              "          const element = document.querySelector('#df-5617b678-6573-4050-993a-79f1b2c64d17');\n",
              "          const dataTable =\n",
              "            await google.colab.kernel.invokeFunction('convertToInteractive',\n",
              "                                                     [key], {});\n",
              "          if (!dataTable) return;\n",
              "\n",
              "          const docLinkHtml = 'Like what you see? Visit the ' +\n",
              "            '<a target=\"_blank\" href=https://colab.research.google.com/notebooks/data_table.ipynb>data table notebook</a>'\n",
              "            + ' to learn more about interactive tables.';\n",
              "          element.innerHTML = '';\n",
              "          dataTable['output_type'] = 'display_data';\n",
              "          await google.colab.output.renderOutput(dataTable, element);\n",
              "          const docLink = document.createElement('div');\n",
              "          docLink.innerHTML = docLinkHtml;\n",
              "          element.appendChild(docLink);\n",
              "        }\n",
              "      </script>\n",
              "    </div>\n",
              "  </div>\n",
              "  "
            ]
          },
          "metadata": {},
          "execution_count": 8
        }
      ]
    },
    {
      "cell_type": "code",
      "source": [
        "from sklearn.model_selection import train_test_split\n",
        "X_train, X_test, y_train, y_test = train_test_split(X, y, test_size=0.33, stratify=y)\n",
        "print(\"Split ratio\")\n",
        "print('-'*50)\n",
        "print('Train dataset:',len(X_train)/len(X)*100,'%\\n','size:',len(X_train))\n",
        "print('Test dataset:',len(X_test)/len(X)*100,'%\\n','size:',len(X_test))"
      ],
      "metadata": {
        "colab": {
          "base_uri": "https://localhost:8080/"
        },
        "id": "cfWfHVHuUusI",
        "outputId": "5a44b6db-b19f-42ea-cb1b-c4ba3cf8a8a5"
      },
      "execution_count": 9,
      "outputs": [
        {
          "output_type": "stream",
          "name": "stdout",
          "text": [
            "Split ratio\n",
            "--------------------------------------------------\n",
            "Train dataset: 67.0 %\n",
            " size: 23450\n",
            "Test dataset: 33.0 %\n",
            " size: 11550\n"
          ]
        }
      ]
    },
    {
      "cell_type": "markdown",
      "metadata": {
        "id": "vsALgl5Asc3u"
      },
      "source": [
        "<h2>1.3 Make Data Model Ready: encoding eassay, and project_title</h2>"
      ]
    },
    {
      "cell_type": "code",
      "execution_count": null,
      "metadata": {
        "id": "1A_85jbWsc3v"
      },
      "outputs": [],
      "source": [
        "# please write all the code with proper documentation, and proper titles for each subsection\n",
        "# go through documentations and blogs before you start coding\n",
        "# first figure out what to do, and then think about how to do.\n",
        "# reading and understanding error messages will be very much helpfull in debugging your code\n",
        "# make sure you featurize train and test data separatly\n",
        "\n",
        "# when you plot any graph make sure you use \n",
        "    # a. Title, that describes your plot, this will be very helpful to the reader\n",
        "    # b. Legends if needed\n",
        "    # c. X-axis label\n",
        "    # d. Y-axis label"
      ]
    },
    {
      "cell_type": "code",
      "source": [
        "#Converting essay in to TFIDF representation using count vectorizer.\n",
        "vectorizer_tfidf_essay = TfidfVectorizer(min_df=10)\n",
        "vectorizer_tfidf_essay.fit(X_train['preprocessed_essays'])      #Fitting has to be on Train data\n",
        " \n",
        "X_train_essay_tfidf = vectorizer_tfidf_essay.transform(X_train['preprocessed_essays'].values)\n",
        "\n",
        "X_test_essay_tfidf = vectorizer_tfidf_essay.transform(X_test['preprocessed_essays'].values)\n",
        "\n",
        "print(\"Shape of train data matrix after one hot encoding \",X_train_essay_tfidf.shape)\n",
        "\n",
        "print(\"Shape of test data matrix after one hot encoding \",X_test_essay_tfidf.shape)"
      ],
      "metadata": {
        "colab": {
          "base_uri": "https://localhost:8080/"
        },
        "id": "Q_JXXhhJU2GW",
        "outputId": "394095a2-e002-4701-987b-1fa546ac5f5d"
      },
      "execution_count": 10,
      "outputs": [
        {
          "output_type": "stream",
          "name": "stdout",
          "text": [
            "Shape of train data matrix after one hot encoding  (23450, 8934)\n",
            "Shape of test data matrix after one hot encoding  (11550, 8934)\n"
          ]
        }
      ]
    },
    {
      "cell_type": "code",
      "source": [
        "# S = [\"abc def pqr\", \"def def def abc\", \"pqr pqr def\"]\n",
        "tfidf_model = TfidfVectorizer()\n",
        "tfidf_model.fit(X_train['preprocessed_essays'])\n",
        "# we are converting a dictionary with word as a key, and the idf as a value\n",
        "dictionary = dict(zip(tfidf_model.get_feature_names(), list(tfidf_model.idf_)))\n",
        "tfidf_words = set(tfidf_model.get_feature_names())"
      ],
      "metadata": {
        "id": "dV_fso9uU_sO"
      },
      "execution_count": 11,
      "outputs": []
    },
    {
      "cell_type": "code",
      "source": [
        "# converting essay to tfidf_w2v\n",
        "# compute average word2vec for each review.\n",
        "def tfidf_w2v(words):\n",
        "    tfidf_w2v_vectors = []; # the avg-w2v for each sentence/review is stored in this list\n",
        "    for sentence in tqdm(words): # for each review/sentence\n",
        "        vector = np.zeros(300) # as word vectors are of zero length\n",
        "        tf_idf_weight =0; # num of words with a valid vector in the sentence/review\n",
        "        for word in sentence.split(): # for each word in a review/sentence\n",
        "            if (word in glove_vectors) and (word in tfidf_words):\n",
        "                vec = model[word] # getting the vector for each word\n",
        "            # here we are multiplying idf value(dictionary[word]) and the tf value((sentence.count(word)/len(sentence.split())))\n",
        "                tf_idf = dictionary[word]*(sentence.count(word)/len(sentence.split())) # getting the tfidf value for each word\n",
        "                vector += (vec * tf_idf) # calculating tfidf weighted w2v\n",
        "                tf_idf_weight += tf_idf\n",
        "        if tf_idf_weight != 0:\n",
        "            vector /= tf_idf_weight\n",
        "        tfidf_w2v_vectors.append(vector)\n",
        "\n",
        "    print(len(tfidf_w2v_vectors))\n",
        "    print(len(tfidf_w2v_vectors[0]))\n",
        "    return tfidf_w2v_vectors"
      ],
      "metadata": {
        "id": "Ya2rUrp9VCtu"
      },
      "execution_count": 12,
      "outputs": []
    },
    {
      "cell_type": "code",
      "source": [
        "train_tfidf_w2v=tfidf_w2v(X_train['preprocessed_essays'])\n",
        "test_tfidf_w2v=tfidf_w2v(X_test['preprocessed_essays'])"
      ],
      "metadata": {
        "colab": {
          "base_uri": "https://localhost:8080/"
        },
        "id": "hj6I4ZWOVFJ-",
        "outputId": "7fdf3146-1ed7-479e-833b-b4e84e10683b"
      },
      "execution_count": 13,
      "outputs": [
        {
          "output_type": "stream",
          "name": "stderr",
          "text": [
            "100%|██████████| 23450/23450 [00:39<00:00, 590.89it/s]\n"
          ]
        },
        {
          "output_type": "stream",
          "name": "stdout",
          "text": [
            "23450\n",
            "300\n"
          ]
        },
        {
          "output_type": "stream",
          "name": "stderr",
          "text": [
            "100%|██████████| 11550/11550 [00:19<00:00, 595.78it/s]"
          ]
        },
        {
          "output_type": "stream",
          "name": "stdout",
          "text": [
            "11550\n",
            "300\n"
          ]
        },
        {
          "output_type": "stream",
          "name": "stderr",
          "text": [
            "\n"
          ]
        }
      ]
    },
    {
      "cell_type": "markdown",
      "metadata": {
        "id": "S3Vxxv2Hsc31"
      },
      "source": [
        "<h2>1.4 Make Data Model Ready: encoding numerical, categorical features</h2>"
      ]
    },
    {
      "cell_type": "code",
      "execution_count": null,
      "metadata": {
        "id": "RAtihVPqsc33"
      },
      "outputs": [],
      "source": [
        "# please write all the code with proper documentation, and proper titles for each subsection\n",
        "# go through documentations and blogs before you start coding \n",
        "# first figure out what to do, and then think about how to do.\n",
        "# reading and understanding error messages will be very much helpfull in debugging your code\n",
        "# make sure you featurize train and test data separatly\n",
        "\n",
        "# when you plot any graph make sure you use \n",
        "    # a. Title, that describes your plot, this will be very helpful to the reader\n",
        "    # b. Legends if needed\n",
        "    # c. X-axis label\n",
        "    # d. Y-axis label"
      ]
    },
    {
      "cell_type": "code",
      "source": [
        "categorical_cols = ['school_state','teacher_prefix','project_grade_category','project_subject_categories','project_subject_subcategories',]"
      ],
      "metadata": {
        "id": "T1gaq9leV6Ju"
      },
      "execution_count": 14,
      "outputs": []
    },
    {
      "cell_type": "code",
      "source": [
        "#https://gist.github.com/sukanta-27/1fb75d974a083883a0bd27af00032718\n",
        "# code for response coding with Laplace smoothing.\n",
        "# alpha : used for laplace smoothing\n",
        "# feature: Categorical Features\n",
        "# df: ['train_df', 'test_df', 'cv_df']\n",
        "# algorithm\n",
        "# ----------\n",
        "# Consider all unique values and the number of occurances of given feature in train dataframe\n",
        "# build a vector (1*2) , the first element = (number of times it occured in class1 + 10*alpha / number of time it occurred in total data+20*alpha)\n",
        "# feat_dict is like a look up table, for every categorical data it store a (1*2) representation of it\n",
        "# for a value of feature in df:\n",
        "# if it is in train data:\n",
        "# we add the vector that was stored in 'feat_dict' look up table to 'res_fea'\n",
        "# if it is not there is train:\n",
        "# we add [1/2, 1/2] to 'res_fea'\n",
        "# return 'res_fea'\n",
        "# ----------------------\n",
        "\n",
        "# get_fea_dict: Get categorical data Feature Dict\n",
        "def get_fea_dict(alpha, feature, train_df, train_df_y):\n",
        "    # value_count: it contains a dict like\n",
        "    value_count = train_df[feature].value_counts()\n",
        "    \n",
        "    # feat_dict : Categorical feature Dict, which contains the probability array for each categorical variable\n",
        "    feat_dict = dict()\n",
        "    \n",
        "    # denominator will contain the number of time that particular feature occured in whole data\n",
        "    for i, denominator in value_count.items():\n",
        "        # vec will contain (p(yi==1/Gi) probability of the particular \n",
        "        # categorical feature belongs to particular class\n",
        "        # vec is 2 diamensional vector\n",
        "        vec = []\n",
        "        for k in range(0, 2):\n",
        "            # cls_cnt.shape[0] will return the number of rows\n",
        "\n",
        "            cls_cnt = train_df.loc[(train_df_y==k) & (train_df[feature]==i)]\n",
        "            \n",
        "            # cls_cnt.shape[0](numerator) will contain the number of time that particular feature occured in whole data\n",
        "            vec.append((cls_cnt.shape[0] + alpha*10)/ (denominator + 20*alpha))\n",
        "\n",
        "        # we are adding the categorical feature to the dict as key and vec as value\n",
        "        feat_dict[i]=vec\n",
        "    return feat_dict\n",
        "\n",
        "# Get Response coded feature\n",
        "def get_response_feature(alpha, feature, train_df, train_df_y):\n",
        "\n",
        "    feat_dict = get_fea_dict(alpha, feature, train_df, train_df_y)\n",
        "    # value_count is similar in get_fea_dict\n",
        "    value_count = train_df[feature].value_counts()\n",
        "    \n",
        "    # res_fea: response coded feature, it will contain the response coded feature for each feature value in the data\n",
        "    res_fea = []\n",
        "    # for every feature values in the given data frame we will check if it is there in the train data then we will add the feature to res_fea\n",
        "    # if not we will add [1/2, 1/2] to res_fea\n",
        "    for index, row in train_df.iterrows():\n",
        "        if row[feature] in dict(value_count).keys():\n",
        "            res_fea.append(feat_dict[row[feature]])\n",
        "        else:\n",
        "            res_fea.append([1/2, 1/2])\n",
        "    return res_fea"
      ],
      "metadata": {
        "id": "vbN2s7tRWSR1"
      },
      "execution_count": 15,
      "outputs": []
    },
    {
      "cell_type": "code",
      "source": [
        "def ResponseEncoder(categorical_cols, x_df, y_df):\n",
        "\n",
        "  \"\"\"\n",
        "    This function takes Categorical column names and X and Y dataframe.\n",
        "\n",
        "    Returns the response coded dataframe\n",
        "  \"\"\"\n",
        "  print(\"Encoding Train dataset\")\n",
        "  print(\"Shape of the train dataset before encoding: \", X_train.shape)\n",
        "  for i in (categorical_cols):\n",
        "    temp_response_coded_feature = np.array(get_response_feature(alpha=1, feature=i, train_df=x_df, train_df_y=y_df))\n",
        "    df_response = pd.DataFrame(temp_response_coded_feature, columns=[i+\"_0\", i+\"_1\"])\n",
        "    x_df = pd.concat([x_df, df_response], axis=1)\n",
        "  \n",
        "  # Remove the categorical features as the response coded features are added\n",
        "  x_df = x_df.drop(categorical_cols, axis=1)\n",
        "  return x_df"
      ],
      "metadata": {
        "id": "kxRrn2CjWagV"
      },
      "execution_count": 16,
      "outputs": []
    },
    {
      "cell_type": "code",
      "source": [
        "# Reset index so that pd.concat works properly in ResponseEncoder function\n",
        "X_train_RES = X_train.reset_index().drop(\"index\",axis=1)\n",
        "X_test_RES = X_test.reset_index().drop(\"index\",axis=1)\n"
      ],
      "metadata": {
        "id": "cEPnAVq1WbqN"
      },
      "execution_count": 17,
      "outputs": []
    },
    {
      "cell_type": "code",
      "source": [
        "X_train_RES = ResponseEncoder(categorical_cols, X_train_RES, y_train)\n",
        "print(\"Shape of the train dataset after encoding: \", X_train.shape)\n",
        "\n",
        "X_test_RES = ResponseEncoder(categorical_cols, X_test_RES, y_test)\n",
        "print(\"Shape of the test dataset after encoding: \", X_test.shape)"
      ],
      "metadata": {
        "colab": {
          "base_uri": "https://localhost:8080/"
        },
        "id": "h-Zjn2RiXDAO",
        "outputId": "dc590ec7-6c1f-430b-84cd-d5e8ab11329d"
      },
      "execution_count": 18,
      "outputs": [
        {
          "output_type": "stream",
          "name": "stdout",
          "text": [
            "Encoding Train dataset\n",
            "Shape of the train dataset before encoding:  (23450, 20)\n",
            "Shape of the train dataset after encoding:  (23450, 20)\n",
            "Encoding Train dataset\n",
            "Shape of the train dataset before encoding:  (23450, 20)\n",
            "Shape of the test dataset after encoding:  (11550, 20)\n"
          ]
        }
      ]
    },
    {
      "cell_type": "code",
      "source": [
        "#Normalizing price\n",
        "# https://stackoverflow.com/questions/22407798/how-to-reset-a-dataframes-indexes-for-all-groups-in-one-step\n",
        "price_data = resource_data.groupby('id').agg({'price':'sum', 'quantity':'sum'}).reset_index()\n",
        "price_data.head(2)"
      ],
      "metadata": {
        "colab": {
          "base_uri": "https://localhost:8080/",
          "height": 112
        },
        "id": "Qysxq8WAY5IX",
        "outputId": "22e28295-a490-441d-89e4-33bc4b0ac620"
      },
      "execution_count": 19,
      "outputs": [
        {
          "output_type": "execute_result",
          "data": {
            "text/plain": [
              "        id   price  quantity\n",
              "0  p000001  459.56         7\n",
              "1  p000002  515.89        21"
            ],
            "text/html": [
              "\n",
              "  <div id=\"df-31fbbcaa-dde9-4588-a18c-33a9401c1137\">\n",
              "    <div class=\"colab-df-container\">\n",
              "      <div>\n",
              "<style scoped>\n",
              "    .dataframe tbody tr th:only-of-type {\n",
              "        vertical-align: middle;\n",
              "    }\n",
              "\n",
              "    .dataframe tbody tr th {\n",
              "        vertical-align: top;\n",
              "    }\n",
              "\n",
              "    .dataframe thead th {\n",
              "        text-align: right;\n",
              "    }\n",
              "</style>\n",
              "<table border=\"1\" class=\"dataframe\">\n",
              "  <thead>\n",
              "    <tr style=\"text-align: right;\">\n",
              "      <th></th>\n",
              "      <th>id</th>\n",
              "      <th>price</th>\n",
              "      <th>quantity</th>\n",
              "    </tr>\n",
              "  </thead>\n",
              "  <tbody>\n",
              "    <tr>\n",
              "      <th>0</th>\n",
              "      <td>p000001</td>\n",
              "      <td>459.56</td>\n",
              "      <td>7</td>\n",
              "    </tr>\n",
              "    <tr>\n",
              "      <th>1</th>\n",
              "      <td>p000002</td>\n",
              "      <td>515.89</td>\n",
              "      <td>21</td>\n",
              "    </tr>\n",
              "  </tbody>\n",
              "</table>\n",
              "</div>\n",
              "      <button class=\"colab-df-convert\" onclick=\"convertToInteractive('df-31fbbcaa-dde9-4588-a18c-33a9401c1137')\"\n",
              "              title=\"Convert this dataframe to an interactive table.\"\n",
              "              style=\"display:none;\">\n",
              "        \n",
              "  <svg xmlns=\"http://www.w3.org/2000/svg\" height=\"24px\"viewBox=\"0 0 24 24\"\n",
              "       width=\"24px\">\n",
              "    <path d=\"M0 0h24v24H0V0z\" fill=\"none\"/>\n",
              "    <path d=\"M18.56 5.44l.94 2.06.94-2.06 2.06-.94-2.06-.94-.94-2.06-.94 2.06-2.06.94zm-11 1L8.5 8.5l.94-2.06 2.06-.94-2.06-.94L8.5 2.5l-.94 2.06-2.06.94zm10 10l.94 2.06.94-2.06 2.06-.94-2.06-.94-.94-2.06-.94 2.06-2.06.94z\"/><path d=\"M17.41 7.96l-1.37-1.37c-.4-.4-.92-.59-1.43-.59-.52 0-1.04.2-1.43.59L10.3 9.45l-7.72 7.72c-.78.78-.78 2.05 0 2.83L4 21.41c.39.39.9.59 1.41.59.51 0 1.02-.2 1.41-.59l7.78-7.78 2.81-2.81c.8-.78.8-2.07 0-2.86zM5.41 20L4 18.59l7.72-7.72 1.47 1.35L5.41 20z\"/>\n",
              "  </svg>\n",
              "      </button>\n",
              "      \n",
              "  <style>\n",
              "    .colab-df-container {\n",
              "      display:flex;\n",
              "      flex-wrap:wrap;\n",
              "      gap: 12px;\n",
              "    }\n",
              "\n",
              "    .colab-df-convert {\n",
              "      background-color: #E8F0FE;\n",
              "      border: none;\n",
              "      border-radius: 50%;\n",
              "      cursor: pointer;\n",
              "      display: none;\n",
              "      fill: #1967D2;\n",
              "      height: 32px;\n",
              "      padding: 0 0 0 0;\n",
              "      width: 32px;\n",
              "    }\n",
              "\n",
              "    .colab-df-convert:hover {\n",
              "      background-color: #E2EBFA;\n",
              "      box-shadow: 0px 1px 2px rgba(60, 64, 67, 0.3), 0px 1px 3px 1px rgba(60, 64, 67, 0.15);\n",
              "      fill: #174EA6;\n",
              "    }\n",
              "\n",
              "    [theme=dark] .colab-df-convert {\n",
              "      background-color: #3B4455;\n",
              "      fill: #D2E3FC;\n",
              "    }\n",
              "\n",
              "    [theme=dark] .colab-df-convert:hover {\n",
              "      background-color: #434B5C;\n",
              "      box-shadow: 0px 1px 3px 1px rgba(0, 0, 0, 0.15);\n",
              "      filter: drop-shadow(0px 1px 2px rgba(0, 0, 0, 0.3));\n",
              "      fill: #FFFFFF;\n",
              "    }\n",
              "  </style>\n",
              "\n",
              "      <script>\n",
              "        const buttonEl =\n",
              "          document.querySelector('#df-31fbbcaa-dde9-4588-a18c-33a9401c1137 button.colab-df-convert');\n",
              "        buttonEl.style.display =\n",
              "          google.colab.kernel.accessAllowed ? 'block' : 'none';\n",
              "\n",
              "        async function convertToInteractive(key) {\n",
              "          const element = document.querySelector('#df-31fbbcaa-dde9-4588-a18c-33a9401c1137');\n",
              "          const dataTable =\n",
              "            await google.colab.kernel.invokeFunction('convertToInteractive',\n",
              "                                                     [key], {});\n",
              "          if (!dataTable) return;\n",
              "\n",
              "          const docLinkHtml = 'Like what you see? Visit the ' +\n",
              "            '<a target=\"_blank\" href=https://colab.research.google.com/notebooks/data_table.ipynb>data table notebook</a>'\n",
              "            + ' to learn more about interactive tables.';\n",
              "          element.innerHTML = '';\n",
              "          dataTable['output_type'] = 'display_data';\n",
              "          await google.colab.output.renderOutput(dataTable, element);\n",
              "          const docLink = document.createElement('div');\n",
              "          docLink.innerHTML = docLinkHtml;\n",
              "          element.appendChild(docLink);\n",
              "        }\n",
              "      </script>\n",
              "    </div>\n",
              "  </div>\n",
              "  "
            ]
          },
          "metadata": {},
          "execution_count": 19
        }
      ]
    },
    {
      "cell_type": "code",
      "source": [
        "X_train = pd.merge(X_train, price_data, on='id', how='left')\n",
        "X_test = pd.merge(X_test, price_data, on='id', how='left')"
      ],
      "metadata": {
        "id": "SnaxWbehZrO_"
      },
      "execution_count": 20,
      "outputs": []
    },
    {
      "cell_type": "code",
      "source": [
        "from sklearn.preprocessing import Normalizer\n",
        "normalizer = Normalizer()\n",
        "# normalizer.fit(X_train['price'].values)\n",
        "# this will rise an error Expected 2D array, got 1D array instead: \n",
        "# array=[105.22 215.96  96.01 ... 368.98  80.53 709.67].\n",
        "# Reshape your data either using \n",
        "# array.reshape(-1, 1) if your data has a single feature \n",
        "# array.reshape(1, -1)  if it contains a single sample.\n",
        "normalizer.fit(X_train['price'].values.reshape(-1,1))\n",
        "X_train_price_norm = normalizer.transform(X_train['price'].values.reshape(-1,1))\n",
        "X_test_price_norm = normalizer.transform(X_test['price'].values.reshape(-1,1))\n",
        "print(\"After vectorizations\")\n",
        "print(X_train_price_norm.shape, y_train.shape)\n",
        "\n",
        "print(X_test_price_norm.shape, y_test.shape)\n",
        "print(\"=\"*100)"
      ],
      "metadata": {
        "colab": {
          "base_uri": "https://localhost:8080/"
        },
        "id": "YyDo-wAdZsbX",
        "outputId": "43d79319-d0d7-4942-e5a9-b9e79fcbf804"
      },
      "execution_count": 21,
      "outputs": [
        {
          "output_type": "stream",
          "name": "stdout",
          "text": [
            "After vectorizations\n",
            "(23450, 1) (23450,)\n",
            "(11550, 1) (11550,)\n",
            "====================================================================================================\n"
          ]
        }
      ]
    },
    {
      "cell_type": "code",
      "source": [
        "#Normalizing teacher_number_of_previously_posted_projects\n",
        "normalizer = Normalizer()\n",
        "# normalizer.fit(X_train['price'].values)\n",
        "# this will rise an error Expected 2D array, got 1D array instead: \n",
        "# array=[105.22 215.96  96.01 ... 368.98  80.53 709.67].\n",
        "# Reshape your data either using \n",
        "# array.reshape(-1, 1) if your data has a single feature \n",
        "# array.reshape(1, -1)  if it contains a single sample.\n",
        "normalizer.fit(X_train['teacher_number_of_previously_posted_projects'].values.reshape(-1,1))\n",
        "\n",
        "X_train_post_norm = normalizer.transform(X_train['teacher_number_of_previously_posted_projects'].values.reshape(-1,1))\n",
        "\n",
        "X_test_post_norm = normalizer.transform(X_test['teacher_number_of_previously_posted_projects'].values.reshape(-1,1))\n",
        "\n",
        "\n",
        "\n",
        "print(\"After vectorizations\")\n",
        "print(X_train_post_norm.shape, y_train.shape)\n",
        "\n",
        "print(X_test_post_norm.shape, y_test.shape)\n",
        "print(\"=\"*100)"
      ],
      "metadata": {
        "colab": {
          "base_uri": "https://localhost:8080/"
        },
        "id": "NiMYuGPiZvU2",
        "outputId": "06c762a6-cbc3-47ae-fb5f-f9db5f0319ed"
      },
      "execution_count": 22,
      "outputs": [
        {
          "output_type": "stream",
          "name": "stdout",
          "text": [
            "After vectorizations\n",
            "(23450, 1) (23450,)\n",
            "(11550, 1) (11550,)\n",
            "====================================================================================================\n"
          ]
        }
      ]
    },
    {
      "cell_type": "code",
      "source": [
        "from sklearn.preprocessing import Normalizer\n",
        "normalizer = Normalizer()\n",
        "# normalizer.fit(X_train['price'].values)\n",
        "# this will rise an error Expected 2D array, got 1D array instead: \n",
        "# array=[105.22 215.96  96.01 ... 368.98  80.53 709.67].\n",
        "# Reshape your data either using \n",
        "# array.reshape(-1, 1) if your data has a single feature \n",
        "# array.reshape(1, -1)  if it contains a single sample.\n",
        "normalizer.fit(X_train['neg'].values.reshape(-1,1))\n",
        "\n",
        "X_train_neg_norm = normalizer.transform(X_train['neg'].values.reshape(-1,1))\n",
        "\n",
        "X_test_neg_norm = normalizer.transform(X_test['neg'].values.reshape(-1,1))\n",
        "\n",
        "\n",
        "\n",
        "print(\"After vectorizations\")\n",
        "print(X_train_neg_norm.shape, y_train.shape)\n",
        "\n",
        "print(X_test_neg_norm.shape, y_test.shape)\n",
        "print(\"=\"*100)"
      ],
      "metadata": {
        "colab": {
          "base_uri": "https://localhost:8080/"
        },
        "id": "DfgmPi7EZyXA",
        "outputId": "87045043-b5cc-4247-aba3-09e48ab7367c"
      },
      "execution_count": 23,
      "outputs": [
        {
          "output_type": "stream",
          "name": "stdout",
          "text": [
            "After vectorizations\n",
            "(23450, 1) (23450,)\n",
            "(11550, 1) (11550,)\n",
            "====================================================================================================\n"
          ]
        }
      ]
    },
    {
      "cell_type": "code",
      "source": [
        "from sklearn.preprocessing import Normalizer\n",
        "normalizer = Normalizer()\n",
        "\n",
        "normalizer.fit(X_train['pos'].values.reshape(-1,1))\n",
        "\n",
        "X_train_pos_norm = normalizer.transform(X_train['pos'].values.reshape(-1,1))\n",
        "\n",
        "X_test_pos_norm = normalizer.transform(X_test['pos'].values.reshape(-1,1))\n",
        "\n",
        "\n",
        "\n",
        "print(\"After vectorizations\")\n",
        "print(X_train_pos_norm.shape, y_train.shape)\n",
        "\n",
        "print(X_test_pos_norm.shape, y_test.shape)\n",
        "print(\"=\"*100)"
      ],
      "metadata": {
        "colab": {
          "base_uri": "https://localhost:8080/"
        },
        "id": "UdZnkvLcZ1Xf",
        "outputId": "4558e78f-2f03-40cd-93b1-d5184f1066a1"
      },
      "execution_count": 24,
      "outputs": [
        {
          "output_type": "stream",
          "name": "stdout",
          "text": [
            "After vectorizations\n",
            "(23450, 1) (23450,)\n",
            "(11550, 1) (11550,)\n",
            "====================================================================================================\n"
          ]
        }
      ]
    },
    {
      "cell_type": "code",
      "source": [
        "from sklearn.preprocessing import Normalizer\n",
        "normalizer = Normalizer()\n",
        "\n",
        "normalizer.fit(X_train['compound'].values.reshape(-1,1))\n",
        "\n",
        "X_train_com_norm = normalizer.transform(X_train['compound'].values.reshape(-1,1))\n",
        "\n",
        "X_test_com_norm = normalizer.transform(X_test['compound'].values.reshape(-1,1))\n",
        "\n",
        "\n",
        "\n",
        "print(\"After vectorizations\")\n",
        "print(X_train_com_norm.shape, y_train.shape)\n",
        "\n",
        "print(X_test_com_norm.shape, y_test.shape)\n",
        "print(\"=\"*100)"
      ],
      "metadata": {
        "colab": {
          "base_uri": "https://localhost:8080/"
        },
        "id": "uxUjlcBgZ9lm",
        "outputId": "ca66cae4-db8a-4700-f650-08f5a4aecf51"
      },
      "execution_count": 25,
      "outputs": [
        {
          "output_type": "stream",
          "name": "stdout",
          "text": [
            "After vectorizations\n",
            "(23450, 1) (23450,)\n",
            "(11550, 1) (11550,)\n",
            "====================================================================================================\n"
          ]
        }
      ]
    },
    {
      "cell_type": "code",
      "source": [
        "from sklearn.preprocessing import Normalizer\n",
        "normalizer = Normalizer()\n",
        "# normalizer.fit(X_train['price'].values)\n",
        "# this will rise an error Expected 2D array, got 1D array instead: \n",
        "# array=[105.22 215.96  96.01 ... 368.98  80.53 709.67].\n",
        "# Reshape your data either using \n",
        "# array.reshape(-1, 1) if your data has a single feature \n",
        "# array.reshape(1, -1)  if it contains a single sample.\n",
        "normalizer.fit(X_train['neu'].values.reshape(-1,1))\n",
        "\n",
        "X_train_neu_norm = normalizer.transform(X_train['neu'].values.reshape(-1,1))\n",
        "\n",
        "X_test_neu_norm = normalizer.transform(X_test['neu'].values.reshape(-1,1))\n",
        "\n",
        "\n",
        "\n",
        "print(\"After vectorizations\")\n",
        "print(X_train_neu_norm.shape, y_train.shape)\n",
        "\n",
        "print(X_test_neu_norm.shape, y_test.shape)\n",
        "print(\"=\"*100)"
      ],
      "metadata": {
        "colab": {
          "base_uri": "https://localhost:8080/"
        },
        "id": "pvWcoqLzZ6E2",
        "outputId": "1bec0bcf-079c-4db9-d0ee-ff0a674a4d9c"
      },
      "execution_count": 26,
      "outputs": [
        {
          "output_type": "stream",
          "name": "stdout",
          "text": [
            "After vectorizations\n",
            "(23450, 1) (23450,)\n",
            "(11550, 1) (11550,)\n",
            "====================================================================================================\n"
          ]
        }
      ]
    },
    {
      "cell_type": "markdown",
      "source": [
        "SET-1"
      ],
      "metadata": {
        "id": "e0Ui_913BA8i"
      }
    },
    {
      "cell_type": "code",
      "source": [
        "# merge two sparse matrices: https://stackoverflow.com/a/19710648/4084039\n",
        "from scipy.sparse import hstack\n",
        "X_tr1 = hstack((X_train_essay_tfidf,X_train_RES[['school_state_0']],X_train_RES[['school_state_1']],X_train_RES[['teacher_prefix_0']],X_train_RES[['teacher_prefix_1']],X_train_RES[['project_grade_category_0']],X_train_RES[['project_grade_category_1']],X_train_RES[['project_subject_categories_0']],X_train_RES[['project_subject_categories_1']],X_train_RES[['project_subject_subcategories_0']],X_train_RES[['project_subject_subcategories_1']],X_train_price_norm,X_train_post_norm,X_train_neg_norm,X_train_neu_norm,X_train_pos_norm,X_train_com_norm)).tocsr()\n",
        "\n",
        "X_te1 = hstack((X_test_essay_tfidf,X_test_RES[['school_state_0']],X_test_RES[['school_state_1']],X_test_RES[['teacher_prefix_0']],X_test_RES[['teacher_prefix_1']],X_test_RES[['project_grade_category_0']],X_test_RES[['project_grade_category_1']],X_test_RES[['project_subject_categories_0']],X_test_RES[['project_subject_categories_1']],X_test_RES[['project_subject_subcategories_0']],X_test_RES[['project_subject_subcategories_1']],X_test_price_norm,X_test_post_norm,X_test_neg_norm,X_test_neu_norm,X_test_pos_norm,X_test_com_norm)).tocsr()\n",
        "\n",
        "print(\"Final Data matrix\")\n",
        "print(X_tr1.shape, y_train.shape)\n",
        "\n",
        "print(X_te1.shape, y_test.shape)\n",
        "print(\"=\"*100)"
      ],
      "metadata": {
        "colab": {
          "base_uri": "https://localhost:8080/"
        },
        "id": "rCaBovnniKUi",
        "outputId": "b48a29e4-5007-4ae8-f456-3689c5b008de"
      },
      "execution_count": null,
      "outputs": [
        {
          "output_type": "stream",
          "name": "stdout",
          "text": [
            "Final Data matrix\n",
            "(23450, 8979) (23450,)\n",
            "(11550, 8979) (11550,)\n",
            "====================================================================================================\n"
          ]
        }
      ]
    },
    {
      "cell_type": "code",
      "source": [
        "def batch_predict(clf, data):\n",
        "    # roc_auc_score(y_true, y_score) the 2nd parameter should be probability estimates of the positive class\n",
        "    # not the predicted outputs\n",
        "\n",
        "    y_data_pred = []\n",
        "    tr_loop = data.shape[0] - data.shape[0]%1000\n",
        "    # consider you X_tr shape is 49041, then your tr_loop will be 49041 - 49041%1000 = 49000\n",
        "    # in this for loop we will iterate unti the last 1000 multiplier\n",
        "    for i in range(0, tr_loop, 1000):\n",
        "        y_data_pred.extend(clf.predict_proba(data[i:i+1000])[:,1])\n",
        "    # we will be predicting for the last data points\n",
        "    if data.shape[0]%1000 !=0:\n",
        "        y_data_pred.extend(clf.predict_proba(data[tr_loop:])[:,1])\n",
        "    \n",
        "    return y_data_pred"
      ],
      "metadata": {
        "id": "7Nt5LfEhaW9u"
      },
      "execution_count": null,
      "outputs": []
    },
    {
      "cell_type": "markdown",
      "metadata": {
        "id": "I5wDFj17sc3-"
      },
      "source": [
        "<h2>1.5 Appling Models on different kind of featurization as mentioned in the instructions</h2>"
      ]
    },
    {
      "cell_type": "markdown",
      "metadata": {
        "id": "O5tWox1jsc3_"
      },
      "source": [
        "<br>Apply GBDT on different kind of featurization as mentioned in the instructions\n",
        "<br> For Every model that you work on make sure you do the step 2 and step 3 of instrucations"
      ]
    },
    {
      "cell_type": "code",
      "execution_count": null,
      "metadata": {
        "id": "ARWulYUwsc4B"
      },
      "outputs": [],
      "source": [
        "# please write all the code with proper documentation, and proper titles for each subsection\n",
        "# go through documentations and blogs before you start coding\n",
        "# first figure out what to do, and then think about how to do.\n",
        "# reading and understanding error messages will be very much helpfull in debugging your code\n",
        "# when you plot any graph make sure you use \n",
        "    # a. Title, that describes your plot, this will be very helpful to the reader\n",
        "    # b. Legends if needed\n",
        "    # c. X-axis label\n",
        "    # d. Y-axis label"
      ]
    },
    {
      "cell_type": "code",
      "source": [
        "# https://scikit-learn.org/stable/modules/generated/sklearn.model_selection.GridSearchCV.html\n",
        "from sklearn.model_selection import GridSearchCV\n",
        "import lightgbm as lgb\n",
        "from scipy.stats import randint as sp_randint\n",
        "from sklearn.model_selection import RandomizedSearchCV\n",
        "from sklearn.metrics import roc_auc_score\n",
        "\n",
        "LGBM = lgb.LGBMClassifier()\n",
        "params = {'max_depth': [1, 5, 10], 'min_child_samples': [5, 10, 20]}\n",
        "clf = GridSearchCV(LGBM, params, cv= 3, scoring='roc_auc',verbose=1,return_train_score=True)\n",
        "clf.fit(X_tr1, y_train)\n",
        "\n",
        "train_auc= clf.cv_results_['mean_train_score']\n",
        "train_auc_std= clf.cv_results_['std_train_score']\n",
        "cv_auc = clf.cv_results_['mean_test_score']\n",
        "cv_auc_std= clf.cv_results_['std_test_score']\n",
        "bestMaxDepth_1=clf.best_params_['max_depth']\n",
        "bestMinSampleSplit_1=clf.best_params_['min_child_samples']\n",
        "bestScore_1=clf.best_score_\n",
        "print(\"BEST MAX DEPTH: \",clf.best_params_['max_depth'],\" BEST SCORE: \",clf.best_score_,\"BEST MIN CHILD SAMPLES: \",clf.best_params_['min_child_samples'])"
      ],
      "metadata": {
        "colab": {
          "base_uri": "https://localhost:8080/"
        },
        "id": "0NStU7tDnU-O",
        "outputId": "955625e7-12ce-4d9d-c687-0d41a2975ee6"
      },
      "execution_count": null,
      "outputs": [
        {
          "output_type": "stream",
          "name": "stdout",
          "text": [
            "Fitting 3 folds for each of 9 candidates, totalling 27 fits\n",
            "BEST MAX DEPTH:  5  BEST SCORE:  0.6802563895789525 BEST MIN CHILD SAMPLES:  20\n"
          ]
        }
      ]
    },
    {
      "cell_type": "code",
      "source": [
        "print(clf.best_params_)"
      ],
      "metadata": {
        "colab": {
          "base_uri": "https://localhost:8080/"
        },
        "id": "VjT7xfdhnM6X",
        "outputId": "5bed3813-db4d-42d7-9c76-d7934a95e251"
      },
      "execution_count": null,
      "outputs": [
        {
          "output_type": "stream",
          "name": "stdout",
          "text": [
            "{'max_depth': 5, 'min_child_samples': 20}\n"
          ]
        }
      ]
    },
    {
      "cell_type": "code",
      "source": [
        "# Best tune parameters\n",
        "best_tune_parameters=[{'max_depth':[5], 'min_child_sample':[20] } ]"
      ],
      "metadata": {
        "id": "65ulDVFwpQIm"
      },
      "execution_count": null,
      "outputs": []
    },
    {
      "cell_type": "code",
      "source": [
        "# https://scikitlearn.org/stable/modules/generated/sklearn.metrics.roc_curve.html#sklearn.metrics.roc_curve\n",
        "from sklearn.metrics import roc_curve, auc\n",
        "import matplotlib.pyplot as plt\n",
        "from sklearn.tree import DecisionTreeClassifier\n",
        "from sklearn.model_selection import cross_val_score\n",
        "from sklearn.metrics import roc_curve, auc\n",
        "\n",
        "model=lgb.LGBMClassifier(class_weight = 'balanced',max_depth=5,min_child_sample=20)\n",
        "model.fit(X_tr1, y_train)\n",
        "# for visulation\n",
        "clf.fit(X_tr1, y_train)\n",
        "#https://scikitlearn.org/stable/modules/generated/sklearn.linear_model.SGDClassifier.html#sklearn.linear_model.SGDClassifier.decision_function\n",
        "y_train_pred1 = clf.predict_proba(X_tr1) [:,1]\n",
        "y_test_pred1 = clf.predict_proba(X_te1) [:,1]\n",
        "train_fpr, train_tpr, tr_thresholds = roc_curve(y_train, y_train_pred1)\n",
        "test_fpr, test_tpr, te_thresholds = roc_curve(y_test, y_test_pred1)\n",
        "\n",
        "plt.plot(train_fpr, train_tpr, label=\"train AUC =\"+str(auc(train_fpr, train_tpr)))\n",
        "plt.plot(test_fpr, test_tpr, label=\"test AUC =\"+str(auc(test_fpr, test_tpr)))\n",
        "plt.legend()\n",
        "plt.xlabel(\"FALSE POSITIVE RATE\")\n",
        "plt.ylabel(\"TRUE POSITIVE RATE\")\n",
        "plt.title(\"ROC AUC CURVE\")\n",
        "plt.grid()\n",
        "plt.show()"
      ],
      "metadata": {
        "colab": {
          "base_uri": "https://localhost:8080/",
          "height": 295
        },
        "id": "uqi_52_KpUKO",
        "outputId": "3cb6bc37-c7ee-4d72-d05e-a29cc496d9ac"
      },
      "execution_count": null,
      "outputs": [
        {
          "output_type": "display_data",
          "data": {
            "text/plain": [
              "<Figure size 432x288 with 1 Axes>"
            ],
            "image/png": "[encoded data removed]"
          },
          "metadata": {
            "needs_background": "light"
          }
        }
      ]
    },
    {
      "cell_type": "code",
      "source": [
        "import seaborn as sns; sns.set()\n",
        "from sklearn.model_selection import GridSearchCV\n",
        "max_scores1 = pd.DataFrame(clf.cv_results_).groupby(['param_min_child_samples', 'param_max_depth']).max().unstack()[['mean_test_score','mean_train_score']]\n",
        "fig, ax = plt.subplots(1,2, figsize=(20,6))\n",
        "sns.heatmap(max_scores1.mean_train_score, annot = True, fmt='.4g', ax=ax[0])\n",
        "sns.heatmap(max_scores1.mean_test_score, annot = True, fmt='.4g', ax=ax[1])\n",
        "ax[0].set_title('Train Set')\n",
        "ax[1].set_title('CV Set')\n",
        "plt.show()"
      ],
      "metadata": {
        "colab": {
          "base_uri": "https://localhost:8080/",
          "height": 410
        },
        "id": "g26ORMu-pxYW",
        "outputId": "23ee4cad-da57-4ee0-82fa-3d2ecb2a7663"
      },
      "execution_count": null,
      "outputs": [
        {
          "output_type": "display_data",
          "data": {
            "text/plain": [
              "<Figure size 1440x432 with 4 Axes>"
            ],
            "image/png": "[encoded data removed]"
          },
          "metadata": {}
        }
      ]
    },
    {
      "cell_type": "code",
      "source": [
        "# we are writing our own function for predict, with defined thresould\n",
        "# we will pick a threshold that will give the least fpr\n",
        "def find_best_threshold(threshould, fpr, tpr):\n",
        "    t = threshould[np.argmax(tpr*(1-fpr))]\n",
        "    # (tpr*(1-fpr)) will be maximum if your fpr is very low and tpr is very high\n",
        "    print(\"the maximum value of tpr*(1-fpr)\", max(tpr*(1-fpr)), \"for threshold\", np.round(t,3))\n",
        "    return t\n",
        "\n",
        "def predict_with_best_t(proba, threshould):\n",
        "    predictions = []\n",
        "    global predictions1\n",
        "    for i in proba:\n",
        "        if i>=threshould:\n",
        "            predictions.append(1)\n",
        "        else:\n",
        "            predictions.append(0)\n",
        "    predictions1=predictions\n",
        "    return predictions"
      ],
      "metadata": {
        "id": "dWaycX_I-vzC"
      },
      "execution_count": null,
      "outputs": []
    },
    {
      "cell_type": "code",
      "source": [
        "print(\"=\"*100)\n",
        "from sklearn.metrics import confusion_matrix\n",
        "best_t = find_best_threshold(tr_thresholds, train_fpr, train_tpr)\n",
        "print(\"Train confusion matrix\")\n",
        "print(confusion_matrix(y_train, predict_with_best_t(y_train_pred1, best_t)))\n",
        "print(\"Test confusion matrix\")\n",
        "print(confusion_matrix(y_test, predict_with_best_t(y_test_pred1, best_t)))"
      ],
      "metadata": {
        "colab": {
          "base_uri": "https://localhost:8080/"
        },
        "id": "yC15znxA_RtC",
        "outputId": "c9e92c77-cf94-449b-f00f-4a17a8c17232"
      },
      "execution_count": null,
      "outputs": [
        {
          "output_type": "stream",
          "name": "stdout",
          "text": [
            "====================================================================================================\n",
            "the maximum value of tpr*(1-fpr) 0.6175737813184561 for threshold 0.499\n",
            "Train confusion matrix\n",
            "[[ 2917   694]\n",
            " [ 4672 15167]]\n",
            "Test confusion matrix\n",
            "[[1062  716]\n",
            " [3026 6746]]\n"
          ]
        }
      ]
    },
    {
      "cell_type": "code",
      "source": [
        "print(\"=\"*100)\n",
        "from sklearn.metrics import confusion_matrix\n",
        "import seaborn as sns; sns.set()\n",
        "con_m_train=confusion_matrix(y_train, predict_with_best_t(y_train_pred1, best_t))\n",
        "con_m_test=confusion_matrix(y_test, predict_with_best_t(y_test_pred1, best_t))\n",
        "key = (np.asarray([['TN','FP'], ['FN', 'TP']]))\n",
        "fig, ax = plt.subplots(1,2, figsize=(15,5))\n",
        "best_t = find_best_threshold(tr_thresholds, train_fpr, train_tpr)\n",
        "labels_train = (np.asarray([\"{0} = {1:.2f}\" .format(key, value) for key, value in zip(key.flatten(), con_m_train.flatten())])).reshape(2,2)\n",
        "labels_test = (np.asarray([\"{0} = {1:.2f}\" .format(key, value) for key, value in zip(key.flatten(),con_m_test.flatten())])).reshape(2,2)\n",
        "sns.heatmap(con_m_train, linewidths=.5, xticklabels=['PREDICTED : NO', 'PREDICTED : YES'],yticklabels=['ACTUAL : NO', 'ACTUAL : YES'], annot = labels_train, fmt = '', ax=ax[0])\n",
        "sns.heatmap(con_m_test, linewidths=.5, xticklabels=['PREDICTED : NO', 'PREDICTED : YES'],yticklabels=['ACTUAL : NO', 'ACTUAL : YES'], annot = labels_test, fmt = '', ax=ax[1])\n",
        "ax[0].set_title('Train Set')\n",
        "ax[1].set_title('Test Set')\n",
        "plt.show()"
      ],
      "metadata": {
        "colab": {
          "base_uri": "https://localhost:8080/",
          "height": 373
        },
        "id": "TLCK9JKC_Vrr",
        "outputId": "4f1b6c2d-677c-4cfe-bc8c-146d96241553"
      },
      "execution_count": null,
      "outputs": [
        {
          "output_type": "stream",
          "name": "stdout",
          "text": [
            "====================================================================================================\n",
            "the maximum value of tpr*(1-fpr) 0.6175737813184561 for threshold 0.499\n"
          ]
        },
        {
          "output_type": "display_data",
          "data": {
            "text/plain": [
              "<Figure size 1080x360 with 4 Axes>"
            ],
            "image/png": "[encoded data removed]"
          },
          "metadata": {}
        }
      ]
    },
    {
      "cell_type": "markdown",
      "source": [
        "SET-2"
      ],
      "metadata": {
        "id": "3N3PEmfvBEER"
      }
    },
    {
      "cell_type": "code",
      "source": [
        "X1=csr_matrix(train_tfidf_w2v)[0:20000,:]\n",
        "X2=csr_matrix(test_tfidf_w2v)[0:12000,:]"
      ],
      "metadata": {
        "id": "VmZiq3cgPYa9"
      },
      "execution_count": 54,
      "outputs": []
    },
    {
      "cell_type": "code",
      "source": [
        "X_ss_train_0=csr_matrix(X_train_RES[['school_state_0']])[0:20000,:]\n",
        "X_ss_train_1=csr_matrix(X_train_RES[['school_state_1']])[0:20000,:]\n",
        "X_tp_train_0=csr_matrix(X_train_RES[['teacher_prefix_0']])[0:20000,:]\n",
        "X_tp_train_1=csr_matrix(X_train_RES[['teacher_prefix_1']])[0:20000,:]\n",
        "X_pg_train_0=csr_matrix(X_train_RES[['project_grade_category_0']])[0:20000,:]\n",
        "X_pg_train_1=csr_matrix(X_train_RES[['project_grade_category_1']])[0:20000,:]\n",
        "X_ps_train_0=csr_matrix(X_train_RES[['project_subject_categories_0']])[0:20000,:]\n",
        "X_ps_train_1=csr_matrix(X_train_RES[['project_subject_categories_1']])[0:20000,:]\n",
        "X_pss_train_0=csr_matrix(X_train_RES[['project_subject_subcategories_0']])[0:20000,:]\n",
        "X_pss_train_1=csr_matrix(X_train_RES[['project_subject_subcategories_1']])[0:20000,:]\n",
        "X_price_train=csr_matrix(X_train_price_norm)[0:20000,:]\n",
        "X_post_train=csr_matrix(X_train_post_norm)[0:20000,:]\n",
        "X_neg_train=csr_matrix(X_train_neg_norm)[0:20000,:]\n",
        "X_neu_train=csr_matrix(X_train_neu_norm)[0:20000,:]\n",
        "X_pos_train=csr_matrix(X_train_pos_norm)[0:20000,:]\n",
        "X_com_train=csr_matrix(X_train_com_norm)[0:20000,:]"
      ],
      "metadata": {
        "id": "CK3I-mUKMA6r"
      },
      "execution_count": 55,
      "outputs": []
    },
    {
      "cell_type": "code",
      "source": [
        "X_ss_test_0=csr_matrix(X_test_RES[['school_state_0']])[0:20000,:]\n",
        "X_ss_test_1=csr_matrix(X_test_RES[['school_state_1']])[0:20000,:]\n",
        "X_tp_test_0=csr_matrix(X_test_RES[['teacher_prefix_0']])[0:20000,:]\n",
        "X_tp_test_1=csr_matrix(X_test_RES[['teacher_prefix_1']])[0:20000,:]\n",
        "X_pg_test_0=csr_matrix(X_test_RES[['project_grade_category_0']])[0:20000,:]\n",
        "X_pg_test_1=csr_matrix(X_test_RES[['project_grade_category_1']])[0:20000,:]\n",
        "X_ps_test_0=csr_matrix(X_test_RES[['project_subject_categories_0']])[0:20000,:]\n",
        "X_ps_test_1=csr_matrix(X_test_RES[['project_subject_categories_1']])[0:20000,:]\n",
        "X_pss_test_0=csr_matrix(X_test_RES[['project_subject_subcategories_0']])[0:20000,:]\n",
        "X_pss_test_1=csr_matrix(X_test_RES[['project_subject_subcategories_1']])[0:20000,:]\n",
        "X_price_test=csr_matrix(X_test_price_norm)[0:20000,:]\n",
        "X_post_test=csr_matrix(X_test_post_norm)[0:20000,:]\n",
        "X_neg_test=csr_matrix(X_test_neg_norm)[0:20000,:]\n",
        "X_neu_test=csr_matrix(X_test_neu_norm)[0:20000,:]\n",
        "X_pos_test=csr_matrix(X_test_pos_norm)[0:20000,:]\n",
        "X_com_test=csr_matrix(X_test_com_norm)[0:20000,:]"
      ],
      "metadata": {
        "id": "3ASbLyFmOZQ_"
      },
      "execution_count": 58,
      "outputs": []
    },
    {
      "cell_type": "code",
      "source": [
        "# merge two sparse matrices: https://stackoverflow.com/a/19710648/4084039\n",
        "from scipy.sparse import hstack\n",
        "X_tr2 = hstack((X1, X_ss_train_0,X_ss_train_1,X_tp_train_0,X_tp_train_1,X_pg_train_0,X_pg_train_1,X_ps_train_0,X_ps_train_1,X_pss_train_0,X_pss_train_1,X_price_train,X_post_train,X_neg_train,X_neu_train,X_pos_train,X_com_train)).tocsr()\n",
        "\n",
        "X_te2 = hstack((X2, X_ss_test_0,X_ss_test_1,X_tp_test_0,X_tp_test_1,X_pg_test_0,X_pg_test_1,X_ps_test_0,X_ps_test_1,X_pss_test_0,X_pss_test_1,X_price_test,X_post_test,X_neg_test,X_neu_test,X_pos_test,X_com_test)).tocsr()\n",
        "\n",
        "print(\"Final Data matrix\")\n",
        "print(X_tr2.shape, y_train.shape)\n",
        "\n",
        "print(X_te2.shape, y_test.shape)\n",
        "print(\"=\"*100)"
      ],
      "metadata": {
        "colab": {
          "base_uri": "https://localhost:8080/"
        },
        "id": "hN6j1_fXPJMM",
        "outputId": "31edb7f3-542c-4e66-9438-081fe51ffc7d"
      },
      "execution_count": 59,
      "outputs": [
        {
          "output_type": "stream",
          "name": "stdout",
          "text": [
            "Final Data matrix\n",
            "(20000, 316) (23450,)\n",
            "(11550, 316) (11550,)\n",
            "====================================================================================================\n"
          ]
        }
      ]
    },
    {
      "cell_type": "code",
      "source": [
        "y_train2=y_train[0:20000]"
      ],
      "metadata": {
        "id": "WrfwJTi9cIxa"
      },
      "execution_count": 64,
      "outputs": []
    },
    {
      "cell_type": "code",
      "source": [
        "# https://scikit-learn.org/stable/modules/generated/sklearn.model_selection.GridSearchCV.html\n",
        "from sklearn.model_selection import GridSearchCV\n",
        "import lightgbm as lgb\n",
        "from scipy.stats import randint as sp_randint\n",
        "from sklearn.model_selection import RandomizedSearchCV\n",
        "from sklearn.metrics import roc_auc_score\n",
        "\n",
        "LGBM = lgb.LGBMClassifier()\n",
        "params = {'max_depth': [1, 5, 10], 'min_child_samples': [5, 10, 20]}\n",
        "clf = GridSearchCV(LGBM, params, cv= 3, scoring='roc_auc',verbose=1,return_train_score=True)\n",
        "clf.fit(X_tr2, y_train2)\n",
        "\n",
        "train_auc= clf.cv_results_['mean_train_score']\n",
        "train_auc_std= clf.cv_results_['std_train_score']\n",
        "cv_auc = clf.cv_results_['mean_test_score']\n",
        "cv_auc_std= clf.cv_results_['std_test_score']\n",
        "bestMaxDepth_1=clf.best_params_['max_depth']\n",
        "bestMinSampleSplit_1=clf.best_params_['min_child_samples']\n",
        "bestScore_1=clf.best_score_\n",
        "print(\"BEST MAX DEPTH: \",clf.best_params_['max_depth'],\" BEST SCORE: \",clf.best_score_,\"BEST MIN CHILD SAMPLES: \",clf.best_params_['min_child_samples'])"
      ],
      "metadata": {
        "colab": {
          "base_uri": "https://localhost:8080/"
        },
        "id": "I_OE1AFMb7mh",
        "outputId": "f53a454a-25f9-43dc-a7dd-238c44b8a7dc"
      },
      "execution_count": 65,
      "outputs": [
        {
          "output_type": "stream",
          "name": "stdout",
          "text": [
            "Fitting 3 folds for each of 9 candidates, totalling 27 fits\n",
            "BEST MAX DEPTH:  5  BEST SCORE:  0.6781193544034112 BEST MIN CHILD SAMPLES:  5\n"
          ]
        }
      ]
    },
    {
      "cell_type": "code",
      "source": [
        "print(clf.best_params_)"
      ],
      "metadata": {
        "colab": {
          "base_uri": "https://localhost:8080/"
        },
        "id": "uZTFsnkFdCsz",
        "outputId": "29abafdb-a13d-4a8c-884a-21931825176e"
      },
      "execution_count": 66,
      "outputs": [
        {
          "output_type": "stream",
          "name": "stdout",
          "text": [
            "{'max_depth': 5, 'min_child_samples': 5}\n"
          ]
        }
      ]
    },
    {
      "cell_type": "code",
      "source": [
        "# Best tune parameters\n",
        "best_tune_parameters=[{'max_depth':[5], 'min_child_sample':[5] } ]"
      ],
      "metadata": {
        "id": "uxKU763HdEM6"
      },
      "execution_count": 67,
      "outputs": []
    },
    {
      "cell_type": "code",
      "source": [
        "# https://scikitlearn.org/stable/modules/generated/sklearn.metrics.roc_curve.html#sklearn.metrics.roc_curve\n",
        "from sklearn.metrics import roc_curve, auc\n",
        "import matplotlib.pyplot as plt\n",
        "from sklearn.tree import DecisionTreeClassifier\n",
        "from sklearn.model_selection import cross_val_score\n",
        "from sklearn.metrics import roc_curve, auc\n",
        "\n",
        "model=lgb.LGBMClassifier(class_weight = 'balanced',max_depth=5,min_child_sample=5)\n",
        "model.fit(X_tr2, y_train2)\n",
        "# for visulation\n",
        "clf.fit(X_tr2, y_train2)\n",
        "#https://scikitlearn.org/stable/modules/generated/sklearn.linear_model.SGDClassifier.html#sklearn.linear_model.SGDClassifier.decision_function\n",
        "y_train_pred2 = clf.predict_proba(X_tr2) [:,1]\n",
        "y_test_pred2 = clf.predict_proba(X_te2) [:,1]\n",
        "train_fpr, train_tpr, tr_thresholds = roc_curve(y_train2, y_train_pred2)\n",
        "test_fpr, test_tpr, te_thresholds = roc_curve(y_test, y_test_pred2)\n",
        "\n",
        "plt.plot(train_fpr, train_tpr, label=\"train AUC =\"+str(auc(train_fpr, train_tpr)))\n",
        "plt.plot(test_fpr, test_tpr, label=\"test AUC =\"+str(auc(test_fpr, test_tpr)))\n",
        "plt.legend()\n",
        "plt.xlabel(\"FALSE POSITIVE RATE\")\n",
        "plt.ylabel(\"TRUE POSITIVE RATE\")\n",
        "plt.title(\"ROC AUC CURVE\")\n",
        "plt.grid()\n",
        "plt.show()"
      ],
      "metadata": {
        "colab": {
          "base_uri": "https://localhost:8080/",
          "height": 312
        },
        "id": "Vt0MZ4mddM_4",
        "outputId": "3aecf03d-5074-4bcd-ad26-9af9b7cd89fd"
      },
      "execution_count": 71,
      "outputs": [
        {
          "output_type": "stream",
          "name": "stdout",
          "text": [
            "Fitting 3 folds for each of 9 candidates, totalling 27 fits\n"
          ]
        },
        {
          "output_type": "display_data",
          "data": {
            "text/plain": [
              "<Figure size 432x288 with 1 Axes>"
            ],
            "image/png": "[encoded data removed]"
          },
          "metadata": {
            "needs_background": "light"
          }
        }
      ]
    },
    {
      "cell_type": "code",
      "source": [
        "import seaborn as sns; sns.set()\n",
        "from sklearn.model_selection import GridSearchCV\n",
        "max_scores1 = pd.DataFrame(clf.cv_results_).groupby(['param_min_child_samples', 'param_max_depth']).max().unstack()[['mean_test_score','mean_train_score']]\n",
        "fig, ax = plt.subplots(1,2, figsize=(20,6))\n",
        "sns.heatmap(max_scores1.mean_train_score, annot = True, fmt='.4g', ax=ax[0])\n",
        "sns.heatmap(max_scores1.mean_test_score, annot = True, fmt='.4g', ax=ax[1])\n",
        "ax[0].set_title('Train Set')\n",
        "ax[1].set_title('CV Set')\n",
        "plt.show()"
      ],
      "metadata": {
        "colab": {
          "base_uri": "https://localhost:8080/",
          "height": 410
        },
        "id": "Y5J3SZIbfJWv",
        "outputId": "3fc91003-eb5d-4401-d87b-3abc20e052d7"
      },
      "execution_count": 72,
      "outputs": [
        {
          "output_type": "display_data",
          "data": {
            "text/plain": [
              "<Figure size 1440x432 with 4 Axes>"
            ],
            "image/png": "[encoded data removed]"
          },
          "metadata": {}
        }
      ]
    },
    {
      "cell_type": "code",
      "source": [
        "# we are writing our own function for predict, with defined thresould\n",
        "# we will pick a threshold that will give the least fpr\n",
        "def find_best_threshold(threshould, fpr, tpr):\n",
        "    t = threshould[np.argmax(tpr*(1-fpr))]\n",
        "    # (tpr*(1-fpr)) will be maximum if your fpr is very low and tpr is very high\n",
        "    print(\"the maximum value of tpr*(1-fpr)\", max(tpr*(1-fpr)), \"for threshold\", np.round(t,3))\n",
        "    return t\n",
        "\n",
        "def predict_with_best_t(proba, threshould):\n",
        "    predictions = []\n",
        "    global predictions1\n",
        "    for i in proba:\n",
        "        if i>=threshould:\n",
        "            predictions.append(1)\n",
        "        else:\n",
        "            predictions.append(0)\n",
        "    predictions1=predictions\n",
        "    return predictions"
      ],
      "metadata": {
        "id": "JoWf6bMPfakF"
      },
      "execution_count": 73,
      "outputs": []
    },
    {
      "cell_type": "code",
      "source": [
        "print(\"=\"*100)\n",
        "from sklearn.metrics import confusion_matrix\n",
        "best_t = find_best_threshold(tr_thresholds, train_fpr, train_tpr)\n",
        "print(\"Train confusion matrix\")\n",
        "print(confusion_matrix(y_train2, predict_with_best_t(y_train_pred2, best_t)))\n",
        "print(\"Test confusion matrix\")\n",
        "print(confusion_matrix(y_test, predict_with_best_t(y_test_pred2, best_t)))"
      ],
      "metadata": {
        "colab": {
          "base_uri": "https://localhost:8080/"
        },
        "id": "7XWY0zDHfhYD",
        "outputId": "19420303-4893-4114-a973-bdbfdb8c39e9"
      },
      "execution_count": 75,
      "outputs": [
        {
          "output_type": "stream",
          "name": "stdout",
          "text": [
            "====================================================================================================\n",
            "the maximum value of tpr*(1-fpr) 0.7742214469524957 for threshold 0.802\n",
            "Train confusion matrix\n",
            "[[ 2675   389]\n",
            " [ 1917 15019]]\n",
            "Test confusion matrix\n",
            "[[ 854  924]\n",
            " [2140 7632]]\n"
          ]
        }
      ]
    },
    {
      "cell_type": "code",
      "source": [
        "print(\"=\"*100)\n",
        "from sklearn.metrics import confusion_matrix\n",
        "import seaborn as sns; sns.set()\n",
        "con_m_train=confusion_matrix(y_train2, predict_with_best_t(y_train_pred2, best_t))\n",
        "con_m_test=confusion_matrix(y_test, predict_with_best_t(y_test_pred2, best_t))\n",
        "key = (np.asarray([['TN','FP'], ['FN', 'TP']]))\n",
        "fig, ax = plt.subplots(1,2, figsize=(15,5))\n",
        "best_t = find_best_threshold(tr_thresholds, train_fpr, train_tpr)\n",
        "labels_train = (np.asarray([\"{0} = {1:.2f}\" .format(key, value) for key, value in zip(key.flatten(), con_m_train.flatten())])).reshape(2,2)\n",
        "labels_test = (np.asarray([\"{0} = {1:.2f}\" .format(key, value) for key, value in zip(key.flatten(),con_m_test.flatten())])).reshape(2,2)\n",
        "sns.heatmap(con_m_train, linewidths=.5, xticklabels=['PREDICTED : NO', 'PREDICTED : YES'],yticklabels=['ACTUAL : NO', 'ACTUAL : YES'], annot = labels_train, fmt = '', ax=ax[0])\n",
        "sns.heatmap(con_m_test, linewidths=.5, xticklabels=['PREDICTED : NO', 'PREDICTED : YES'],yticklabels=['ACTUAL : NO', 'ACTUAL : YES'], annot = labels_test, fmt = '', ax=ax[1])\n",
        "ax[0].set_title('Train Set')\n",
        "ax[1].set_title('Test Set')\n",
        "plt.show()"
      ],
      "metadata": {
        "colab": {
          "base_uri": "https://localhost:8080/",
          "height": 373
        },
        "id": "pPGLMAu_fxEJ",
        "outputId": "37532eaf-3398-4ddc-90c3-57d34c9a1ed2"
      },
      "execution_count": 76,
      "outputs": [
        {
          "output_type": "stream",
          "name": "stdout",
          "text": [
            "====================================================================================================\n",
            "the maximum value of tpr*(1-fpr) 0.7742214469524957 for threshold 0.802\n"
          ]
        },
        {
          "output_type": "display_data",
          "data": {
            "text/plain": [
              "<Figure size 1080x360 with 4 Axes>"
            ],
            "image/png": "[encoded data removed]"
          },
          "metadata": {}
        }
      ]
    },
    {
      "cell_type": "markdown",
      "metadata": {
        "id": "YhFN-lDWsc4G"
      },
      "source": [
        "Summary:\n",
        "\n",
        "1.When we compare both models with AUC TFIDF performing slightly better compared to TFIDFW2V model and model-2 slightly overfitting because train and test scores are far away.\n",
        "\n",
        "2.We compare both models with confusion matrix model-2 has False positives more than model-1 so it has problem with predicting negative label and model-1 has more False negatives comapared to model-2 so model-1 has problem with predicting positive class."
      ]
    },
    {
      "cell_type": "code",
      "source": [
        "# http://zetcode.com/python/prettytable/\n",
        "\n",
        "from prettytable import PrettyTable\n",
        "x = PrettyTable()\n",
        "x.field_names = [\"Vectorizer\",\"MAX_DEPTH\", \"MIN_CHILD_Samples\", \"Test AUC\"]\n",
        "\n",
        "x.add_row([\"TFIDF\",\"5\",\"20\", 0.696])\n",
        "x.add_row([\"TFIDF_W2V\", \"5\", \"5\",0.681])\n",
        "\n",
        "print(x)"
      ],
      "metadata": {
        "colab": {
          "base_uri": "https://localhost:8080/"
        },
        "id": "BF3oeXrFlGRT",
        "outputId": "70f26259-7041-4d21-999d-b40fd559b1c9"
      },
      "execution_count": 77,
      "outputs": [
        {
          "output_type": "stream",
          "name": "stdout",
          "text": [
            "+------------+-----------+-------------------+----------+\n",
            "| Vectorizer | MAX_DEPTH | MIN_CHILD_Samples | Test AUC |\n",
            "+------------+-----------+-------------------+----------+\n",
            "|   TFIDF    |     5     |         20        |  0.696   |\n",
            "| TFIDF_W2V  |     5     |         5         |  0.681   |\n",
            "+------------+-----------+-------------------+----------+\n"
          ]
        }
      ]
    }
  ],
  "metadata": {
    "colab": {
      "collapsed_sections": [],
      "provenance": []
    },
    "kernelspec": {
      "display_name": "Python 3",
      "language": "python",
      "name": "python3"
    },
    "language_info": {
      "codemirror_mode": {
        "name": "ipython",
        "version": 3
      },
      "file_extension": ".py",
      "mimetype": "text/x-python",
      "name": "python",
      "nbconvert_exporter": "python",
      "pygments_lexer": "ipython3",
      "version": "3.6.3"
    },
    "gpuClass": "standard"
  },
  "nbformat": 4,
  "nbformat_minor": 0
}